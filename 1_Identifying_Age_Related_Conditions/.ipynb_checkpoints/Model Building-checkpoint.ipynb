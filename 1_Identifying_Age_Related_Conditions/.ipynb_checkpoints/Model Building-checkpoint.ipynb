{
 "cells": [
  {
   "cell_type": "code",
   "execution_count": 1,
   "id": "5720e40a-4267-43a0-86e9-f52677f0d406",
   "metadata": {},
   "outputs": [],
   "source": [
    "# !pip install --upgrade scikit-learn==1.2.2"
   ]
  },
  {
   "cell_type": "code",
   "execution_count": 1,
   "id": "40348aee-f512-4acd-84fe-299660427129",
   "metadata": {},
   "outputs": [],
   "source": [
    "import pandas as pd\n",
    "import numpy as np\n",
    "\n",
    "import matplotlib.pyplot as plt\n",
    "import seaborn as sns\n",
    "\n",
    "from sklearn.model_selection import train_test_split, RandomizedSearchCV, GridSearchCV\n",
    "from sklearn.tree import DecisionTreeClassifier\n",
    "from sklearn.ensemble import RandomForestClassifier, AdaBoostClassifier\n",
    "from sklearn.naive_bayes import GaussianNB\n",
    "from sklearn.linear_model import LogisticRegression\n",
    "from sklearn.model_selection import cross_val_score, cross_validate\n",
    "from sklearn.neighbors import KNeighborsClassifier\n",
    "from xgboost import XGBClassifier\n",
    "from sklearn.preprocessing import MinMaxScaler, StandardScaler, OneHotEncoder, LabelEncoder\n",
    "from sklearn.metrics import accuracy_score, precision_score, recall_score, precision_score,recall_score\n",
    "from sklearn.metrics import roc_curve, classification_report,confusion_matrix, f1_score,roc_auc_score\n",
    "import warnings\n",
    "\n",
    "warnings.filterwarnings(\"ignore\")\n",
    "sns.set(style=\"ticks\", context=\"talk\")\n",
    "plt.style.use(\"dark_background\")\n",
    "\n",
    "%matplotlib inline"
   ]
  },
  {
   "cell_type": "code",
   "execution_count": 2,
   "id": "0b77c792-3af1-4f2a-9e6c-11199e587ec9",
   "metadata": {},
   "outputs": [],
   "source": [
    "path = r\"E:/My_Model/ML_Projects/1_Identifying_Age_Related_Conditions/data\""
   ]
  },
  {
   "cell_type": "code",
   "execution_count": 3,
   "id": "10bcce7c-9173-4a3a-9ce9-1d3361d9a678",
   "metadata": {},
   "outputs": [],
   "source": [
    "data = pd.read_csv(f\"{path}/Clean_data.csv\")\n",
    "data.drop(\"Unnamed: 0\",axis=1,inplace=True)"
   ]
  },
  {
   "cell_type": "code",
   "execution_count": 4,
   "id": "3daf190b-01ba-4110-a2b9-d5a8fa9a5291",
   "metadata": {},
   "outputs": [
    {
     "data": {
      "text/html": [
       "<div>\n",
       "<style scoped>\n",
       "    .dataframe tbody tr th:only-of-type {\n",
       "        vertical-align: middle;\n",
       "    }\n",
       "\n",
       "    .dataframe tbody tr th {\n",
       "        vertical-align: top;\n",
       "    }\n",
       "\n",
       "    .dataframe thead th {\n",
       "        text-align: right;\n",
       "    }\n",
       "</style>\n",
       "<table border=\"1\" class=\"dataframe\">\n",
       "  <thead>\n",
       "    <tr style=\"text-align: right;\">\n",
       "      <th></th>\n",
       "      <th>Id</th>\n",
       "      <th>AB</th>\n",
       "      <th>AF</th>\n",
       "      <th>AH</th>\n",
       "      <th>AM</th>\n",
       "      <th>AR</th>\n",
       "      <th>AX</th>\n",
       "      <th>AY</th>\n",
       "      <th>AZ</th>\n",
       "      <th>BC</th>\n",
       "      <th>...</th>\n",
       "      <th>FL</th>\n",
       "      <th>FR</th>\n",
       "      <th>FS</th>\n",
       "      <th>GB</th>\n",
       "      <th>GE</th>\n",
       "      <th>GF</th>\n",
       "      <th>GH</th>\n",
       "      <th>GI</th>\n",
       "      <th>GL</th>\n",
       "      <th>Class</th>\n",
       "    </tr>\n",
       "  </thead>\n",
       "  <tbody>\n",
       "    <tr>\n",
       "      <th>0</th>\n",
       "      <td>000ff2bfdfe9</td>\n",
       "      <td>0.209377</td>\n",
       "      <td>3109.03329</td>\n",
       "      <td>85.200147</td>\n",
       "      <td>22.394407</td>\n",
       "      <td>8.138688</td>\n",
       "      <td>0.699861</td>\n",
       "      <td>0.025578</td>\n",
       "      <td>9.812214</td>\n",
       "      <td>5.555634</td>\n",
       "      <td>...</td>\n",
       "      <td>7.298162</td>\n",
       "      <td>1.738550</td>\n",
       "      <td>0.094822</td>\n",
       "      <td>11.339138</td>\n",
       "      <td>72.611063</td>\n",
       "      <td>2003.810319</td>\n",
       "      <td>22.136229</td>\n",
       "      <td>69.834944</td>\n",
       "      <td>0.120343</td>\n",
       "      <td>1</td>\n",
       "    </tr>\n",
       "    <tr>\n",
       "      <th>1</th>\n",
       "      <td>007255e47698</td>\n",
       "      <td>0.145282</td>\n",
       "      <td>978.76416</td>\n",
       "      <td>85.200147</td>\n",
       "      <td>36.968889</td>\n",
       "      <td>8.138688</td>\n",
       "      <td>3.632190</td>\n",
       "      <td>0.025578</td>\n",
       "      <td>13.517790</td>\n",
       "      <td>1.229900</td>\n",
       "      <td>...</td>\n",
       "      <td>0.173229</td>\n",
       "      <td>0.497060</td>\n",
       "      <td>0.568932</td>\n",
       "      <td>9.292698</td>\n",
       "      <td>72.611063</td>\n",
       "      <td>27981.562750</td>\n",
       "      <td>29.135430</td>\n",
       "      <td>32.131996</td>\n",
       "      <td>21.978000</td>\n",
       "      <td>0</td>\n",
       "    </tr>\n",
       "    <tr>\n",
       "      <th>2</th>\n",
       "      <td>013f2bd269f5</td>\n",
       "      <td>0.470030</td>\n",
       "      <td>2635.10654</td>\n",
       "      <td>85.200147</td>\n",
       "      <td>32.360553</td>\n",
       "      <td>8.138688</td>\n",
       "      <td>6.732840</td>\n",
       "      <td>0.025578</td>\n",
       "      <td>12.824570</td>\n",
       "      <td>1.229900</td>\n",
       "      <td>...</td>\n",
       "      <td>7.709560</td>\n",
       "      <td>0.975560</td>\n",
       "      <td>1.198821</td>\n",
       "      <td>37.077772</td>\n",
       "      <td>88.609437</td>\n",
       "      <td>13676.957810</td>\n",
       "      <td>28.022851</td>\n",
       "      <td>35.192676</td>\n",
       "      <td>0.196941</td>\n",
       "      <td>0</td>\n",
       "    </tr>\n",
       "    <tr>\n",
       "      <th>3</th>\n",
       "      <td>043ac50845d5</td>\n",
       "      <td>0.252107</td>\n",
       "      <td>3819.65177</td>\n",
       "      <td>120.201618</td>\n",
       "      <td>77.112203</td>\n",
       "      <td>8.138688</td>\n",
       "      <td>3.685344</td>\n",
       "      <td>0.025578</td>\n",
       "      <td>11.053708</td>\n",
       "      <td>1.229900</td>\n",
       "      <td>...</td>\n",
       "      <td>6.122162</td>\n",
       "      <td>0.497060</td>\n",
       "      <td>0.284466</td>\n",
       "      <td>18.529584</td>\n",
       "      <td>82.416803</td>\n",
       "      <td>2094.262452</td>\n",
       "      <td>39.948656</td>\n",
       "      <td>90.493248</td>\n",
       "      <td>0.155829</td>\n",
       "      <td>0</td>\n",
       "    </tr>\n",
       "    <tr>\n",
       "      <th>4</th>\n",
       "      <td>044fb8a146ec</td>\n",
       "      <td>0.380297</td>\n",
       "      <td>3733.04844</td>\n",
       "      <td>85.200147</td>\n",
       "      <td>14.103738</td>\n",
       "      <td>8.138688</td>\n",
       "      <td>3.942255</td>\n",
       "      <td>0.054810</td>\n",
       "      <td>3.396778</td>\n",
       "      <td>28.147140</td>\n",
       "      <td>...</td>\n",
       "      <td>8.153058</td>\n",
       "      <td>3.998665</td>\n",
       "      <td>0.121914</td>\n",
       "      <td>16.408728</td>\n",
       "      <td>146.109943</td>\n",
       "      <td>8524.370502</td>\n",
       "      <td>45.381316</td>\n",
       "      <td>36.262628</td>\n",
       "      <td>0.096614</td>\n",
       "      <td>1</td>\n",
       "    </tr>\n",
       "  </tbody>\n",
       "</table>\n",
       "<p>5 rows × 58 columns</p>\n",
       "</div>"
      ],
      "text/plain": [
       "             Id        AB          AF          AH         AM        AR  \\\n",
       "0  000ff2bfdfe9  0.209377  3109.03329   85.200147  22.394407  8.138688   \n",
       "1  007255e47698  0.145282   978.76416   85.200147  36.968889  8.138688   \n",
       "2  013f2bd269f5  0.470030  2635.10654   85.200147  32.360553  8.138688   \n",
       "3  043ac50845d5  0.252107  3819.65177  120.201618  77.112203  8.138688   \n",
       "4  044fb8a146ec  0.380297  3733.04844   85.200147  14.103738  8.138688   \n",
       "\n",
       "         AX        AY         AZ         BC  ...        FL        FR  \\\n",
       "0  0.699861  0.025578   9.812214   5.555634  ...  7.298162  1.738550   \n",
       "1  3.632190  0.025578  13.517790   1.229900  ...  0.173229  0.497060   \n",
       "2  6.732840  0.025578  12.824570   1.229900  ...  7.709560  0.975560   \n",
       "3  3.685344  0.025578  11.053708   1.229900  ...  6.122162  0.497060   \n",
       "4  3.942255  0.054810   3.396778  28.147140  ...  8.153058  3.998665   \n",
       "\n",
       "         FS         GB          GE            GF         GH         GI  \\\n",
       "0  0.094822  11.339138   72.611063   2003.810319  22.136229  69.834944   \n",
       "1  0.568932   9.292698   72.611063  27981.562750  29.135430  32.131996   \n",
       "2  1.198821  37.077772   88.609437  13676.957810  28.022851  35.192676   \n",
       "3  0.284466  18.529584   82.416803   2094.262452  39.948656  90.493248   \n",
       "4  0.121914  16.408728  146.109943   8524.370502  45.381316  36.262628   \n",
       "\n",
       "          GL  Class  \n",
       "0   0.120343      1  \n",
       "1  21.978000      0  \n",
       "2   0.196941      0  \n",
       "3   0.155829      0  \n",
       "4   0.096614      1  \n",
       "\n",
       "[5 rows x 58 columns]"
      ]
     },
     "execution_count": 4,
     "metadata": {},
     "output_type": "execute_result"
    }
   ],
   "source": [
    "data.head()"
   ]
  },
  {
   "cell_type": "code",
   "execution_count": 5,
   "id": "24a98ed1-f938-4198-9ccc-19055c972b8b",
   "metadata": {},
   "outputs": [
    {
     "name": "stdout",
     "output_type": "stream",
     "text": [
      "<class 'pandas.core.frame.DataFrame'>\n",
      "RangeIndex: 617 entries, 0 to 616\n",
      "Data columns (total 58 columns):\n",
      " #   Column  Non-Null Count  Dtype  \n",
      "---  ------  --------------  -----  \n",
      " 0   Id      617 non-null    object \n",
      " 1   AB      617 non-null    float64\n",
      " 2   AF      617 non-null    float64\n",
      " 3   AH      617 non-null    float64\n",
      " 4   AM      617 non-null    float64\n",
      " 5   AR      617 non-null    float64\n",
      " 6   AX      617 non-null    float64\n",
      " 7   AY      617 non-null    float64\n",
      " 8   AZ      617 non-null    float64\n",
      " 9   BC      617 non-null    float64\n",
      " 10  BD      617 non-null    float64\n",
      " 11  BN      617 non-null    float64\n",
      " 12  BP      617 non-null    float64\n",
      " 13  BQ      617 non-null    float64\n",
      " 14  BR      617 non-null    float64\n",
      " 15  BZ      617 non-null    float64\n",
      " 16  CB      617 non-null    float64\n",
      " 17  CC      617 non-null    float64\n",
      " 18  CD      617 non-null    float64\n",
      " 19  CF      617 non-null    float64\n",
      " 20  CH      617 non-null    float64\n",
      " 21  CL      617 non-null    float64\n",
      " 22  CR      617 non-null    float64\n",
      " 23  CS      617 non-null    float64\n",
      " 24  CU      617 non-null    float64\n",
      " 25  CW      617 non-null    float64\n",
      " 26  DA      617 non-null    float64\n",
      " 27  DE      617 non-null    float64\n",
      " 28  DF      617 non-null    float64\n",
      " 29  DH      617 non-null    float64\n",
      " 30  DI      617 non-null    float64\n",
      " 31  DL      617 non-null    float64\n",
      " 32  DN      617 non-null    float64\n",
      " 33  DU      617 non-null    float64\n",
      " 34  DV      617 non-null    float64\n",
      " 35  DY      617 non-null    float64\n",
      " 36  EB      617 non-null    float64\n",
      " 37  EE      617 non-null    float64\n",
      " 38  EG      617 non-null    float64\n",
      " 39  EH      617 non-null    float64\n",
      " 40  EJ      617 non-null    int64  \n",
      " 41  EL      617 non-null    float64\n",
      " 42  EP      617 non-null    float64\n",
      " 43  EU      617 non-null    float64\n",
      " 44  FC      617 non-null    float64\n",
      " 45  FD      617 non-null    float64\n",
      " 46  FE      617 non-null    float64\n",
      " 47  FI      617 non-null    float64\n",
      " 48  FL      617 non-null    float64\n",
      " 49  FR      617 non-null    float64\n",
      " 50  FS      617 non-null    float64\n",
      " 51  GB      617 non-null    float64\n",
      " 52  GE      617 non-null    float64\n",
      " 53  GF      617 non-null    float64\n",
      " 54  GH      617 non-null    float64\n",
      " 55  GI      617 non-null    float64\n",
      " 56  GL      617 non-null    float64\n",
      " 57  Class   617 non-null    int64  \n",
      "dtypes: float64(55), int64(2), object(1)\n",
      "memory usage: 279.7+ KB\n"
     ]
    }
   ],
   "source": [
    "data.info()"
   ]
  },
  {
   "cell_type": "code",
   "execution_count": 11,
   "id": "9d084c04-1e98-4704-b5c5-26a9baec5d22",
   "metadata": {},
   "outputs": [],
   "source": [
    "data.drop([\"Id\"],axis=1,inplace=True)"
   ]
  },
  {
   "cell_type": "markdown",
   "id": "a46303cb-d458-42e2-9804-a74e7be9b2d4",
   "metadata": {},
   "source": [
    "## 10. MODEL TRAINING AND EVALUATING"
   ]
  },
  {
   "cell_type": "code",
   "execution_count": 12,
   "id": "c4217497-0777-424e-8fed-98812f8787de",
   "metadata": {},
   "outputs": [],
   "source": [
    "def plot_categorical_cols(data, column):\n",
    "    df = pd.DataFrame(\n",
    "        {\n",
    "            column:data[column].value_counts(),\n",
    "            \"Ratio\": round(100*data[column].value_counts()/len(data),2)\n",
    "        }\n",
    "    )\n",
    "    plt.figure(figsize=(5,4))\n",
    "    sns.countplot(data=data, x=column, palette=\"Set2\")\n",
    "    plt.title(f\"Distribution of {column}\")\n",
    "    return df"
   ]
  },
  {
   "cell_type": "code",
   "execution_count": 13,
   "id": "ff80fa27-c6a3-4aca-9288-4371b57c629f",
   "metadata": {},
   "outputs": [],
   "source": [
    "X = data.drop(\"Class\", axis=1)\n",
    "y = data[\"Class\"]"
   ]
  },
  {
   "cell_type": "code",
   "execution_count": 14,
   "id": "dee0f9ca-5aa0-4b9a-afd6-da3f35e15a29",
   "metadata": {},
   "outputs": [
    {
     "name": "stdout",
     "output_type": "stream",
     "text": [
      "Shape of \n",
      " X (617, 56)\n",
      "Shape of \n",
      " Y (617,)\n"
     ]
    }
   ],
   "source": [
    "print(f\"Shape of \\n X {X.shape}\")\n",
    "print(f\"Shape of \\n Y {y.shape}\")"
   ]
  },
  {
   "cell_type": "code",
   "execution_count": 15,
   "id": "36efac42-5c44-4f5d-88eb-7f79d2448581",
   "metadata": {},
   "outputs": [
    {
     "data": {
      "text/html": [
       "<div>\n",
       "<style scoped>\n",
       "    .dataframe tbody tr th:only-of-type {\n",
       "        vertical-align: middle;\n",
       "    }\n",
       "\n",
       "    .dataframe tbody tr th {\n",
       "        vertical-align: top;\n",
       "    }\n",
       "\n",
       "    .dataframe thead th {\n",
       "        text-align: right;\n",
       "    }\n",
       "</style>\n",
       "<table border=\"1\" class=\"dataframe\">\n",
       "  <thead>\n",
       "    <tr style=\"text-align: right;\">\n",
       "      <th></th>\n",
       "      <th>Class</th>\n",
       "      <th>Ratio</th>\n",
       "    </tr>\n",
       "    <tr>\n",
       "      <th>Class</th>\n",
       "      <th></th>\n",
       "      <th></th>\n",
       "    </tr>\n",
       "  </thead>\n",
       "  <tbody>\n",
       "    <tr>\n",
       "      <th>0</th>\n",
       "      <td>509</td>\n",
       "      <td>82.5</td>\n",
       "    </tr>\n",
       "    <tr>\n",
       "      <th>1</th>\n",
       "      <td>108</td>\n",
       "      <td>17.5</td>\n",
       "    </tr>\n",
       "  </tbody>\n",
       "</table>\n",
       "</div>"
      ],
      "text/plain": [
       "       Class  Ratio\n",
       "Class              \n",
       "0        509   82.5\n",
       "1        108   17.5"
      ]
     },
     "execution_count": 15,
     "metadata": {},
     "output_type": "execute_result"
    },
    {
     "data": {
      "image/png": "[encoded data removed]",
      "text/plain": [
       "<Figure size 500x400 with 1 Axes>"
      ]
     },
     "metadata": {},
     "output_type": "display_data"
    }
   ],
   "source": [
    "plot_categorical_cols(data, \"Class\")"
   ]
  },
  {
   "cell_type": "code",
   "execution_count": 16,
   "id": "d12dae45-f2e9-42b1-beb0-c1296178379c",
   "metadata": {},
   "outputs": [
    {
     "data": {
      "text/plain": [
       "Class\n",
       "1    509\n",
       "0    509\n",
       "Name: count, dtype: int64"
      ]
     },
     "execution_count": 16,
     "metadata": {},
     "output_type": "execute_result"
    }
   ],
   "source": [
    "from imblearn.over_sampling import SMOTE\n",
    "\n",
    "smote = SMOTE(sampling_strategy='minority')\n",
    "X_sm, Y_sm = smote.fit_resample(X, y)\n",
    "\n",
    "Y_sm.value_counts()"
   ]
  },
  {
   "cell_type": "code",
   "execution_count": 17,
   "id": "07c9eb0f-d74e-40c3-a0fc-7c41a29921fb",
   "metadata": {},
   "outputs": [
    {
     "data": {
      "text/plain": [
       "<AxesSubplot: xlabel='Class', ylabel='count'>"
      ]
     },
     "execution_count": 17,
     "metadata": {},
     "output_type": "execute_result"
    },
    {
     "data": {
      "image/png": "[encoded data removed]",
      "text/plain": [
       "<Figure size 640x480 with 1 Axes>"
      ]
     },
     "metadata": {},
     "output_type": "display_data"
    }
   ],
   "source": [
    "sns.countplot(data=data, x=Y_sm)"
   ]
  },
  {
   "cell_type": "code",
   "execution_count": null,
   "id": "bdf2e2d7-5224-4f91-87d7-d87bd55f9903",
   "metadata": {},
   "outputs": [],
   "source": []
  },
  {
   "cell_type": "code",
   "execution_count": 18,
   "id": "db62b426-36c9-43f0-afe9-50dd18a15e08",
   "metadata": {},
   "outputs": [
    {
     "name": "stdout",
     "output_type": "stream",
     "text": [
      "(712, 56)\n",
      "(306, 56)\n",
      "(712,)\n",
      "(306,)\n"
     ]
    }
   ],
   "source": [
    "X_train, X_test, y_train, y_test = train_test_split(X_sm, Y_sm, test_size=0.3, random_state=42)\n",
    "print(X_train.shape)\n",
    "print(X_test.shape)\n",
    "print(y_train.shape)\n",
    "print(y_test.shape)"
   ]
  },
  {
   "cell_type": "markdown",
   "id": "383391df-d484-4c29-9a0a-861bab49d282",
   "metadata": {},
   "source": [
    "## Feature Scaling"
   ]
  },
  {
   "cell_type": "code",
   "execution_count": 19,
   "id": "edfdda19-fbd4-486f-bd62-0ee1f3d84794",
   "metadata": {},
   "outputs": [],
   "source": [
    "# creating a object of a StandardScaler\n",
    "scaler = StandardScaler()"
   ]
  },
  {
   "cell_type": "code",
   "execution_count": 21,
   "id": "b96e267d-258c-443c-ac0d-e7c0fd954291",
   "metadata": {},
   "outputs": [],
   "source": [
    "x_scaled_train = scaler.fit_transform(X_train)\n",
    "x_scaled_test = scaler.transform(X_test)"
   ]
  },
  {
   "cell_type": "code",
   "execution_count": 24,
   "id": "3940d460-2314-46d8-93ac-14319b878d95",
   "metadata": {},
   "outputs": [
    {
     "data": {
      "text/plain": [
       "array([[-0.59980791, -0.32844535,  0.2891673 , ..., -0.38465895,\n",
       "        -0.16245872,  1.62344629],\n",
       "       [-0.11108868, -1.17726202, -0.19160596, ...,  0.40805856,\n",
       "        -1.11386379, -0.69600048],\n",
       "       [-0.25088672, -0.73573512, -0.35879133, ...,  2.16099762,\n",
       "        -1.19519624, -0.74396667],\n",
       "       ...,\n",
       "       [-0.64174586,  1.44308032, -0.48867378, ...,  1.11648413,\n",
       "         2.11799282, -0.70768632],\n",
       "       [ 0.32380701, -0.58109259,  0.22430846, ..., -0.06374208,\n",
       "         0.05660571, -0.73772929],\n",
       "       [-0.17905   ,  0.63606655, -0.49024066, ..., -0.25226622,\n",
       "         0.93775572, -0.74375944]])"
      ]
     },
     "execution_count": 24,
     "metadata": {},
     "output_type": "execute_result"
    }
   ],
   "source": [
    "x_scaled_train"
   ]
  },
  {
   "cell_type": "code",
   "execution_count": 25,
   "id": "48bb3bdc-21d2-4b01-a44d-97e409b86e28",
   "metadata": {},
   "outputs": [
    {
     "data": {
      "text/plain": [
       "array([[-0.77426851, -0.82014038, -0.49024066, ..., -0.36994865,\n",
       "        -1.17258314, -0.73193238],\n",
       "       [ 1.34187324,  2.15030117,  0.34393566, ...,  3.56380635,\n",
       "         0.20828638,  1.62344629],\n",
       "       [-0.10721329, -1.26251301, -0.49024066, ..., -0.8077737 ,\n",
       "         0.6587883 ,  1.62344629],\n",
       "       ...,\n",
       "       [-0.0969509 ,  0.25278198, -0.49024066, ...,  0.72829158,\n",
       "         1.4751793 ,  1.62344629],\n",
       "       [-0.62033269, -1.11955699, -0.49024066, ...,  0.65125604,\n",
       "        -0.86781359, -0.71120665],\n",
       "       [ 0.11182853, -0.22661932, -0.42058991, ...,  0.03376975,\n",
       "        -0.76344915,  1.62344629]])"
      ]
     },
     "execution_count": 25,
     "metadata": {},
     "output_type": "execute_result"
    }
   ],
   "source": [
    "x_scaled_test"
   ]
  },
  {
   "cell_type": "code",
   "execution_count": 26,
   "id": "8bf8758b-8f12-4a3e-a973-073bcbe78150",
   "metadata": {},
   "outputs": [
    {
     "name": "stdout",
     "output_type": "stream",
     "text": [
      "Classifier: Logistic Regression\n",
      "Average Accuracy: 0.7740\n",
      "Average Precision: 0.7753\n",
      "Average Recall: 0.7739\n",
      "-----------------------\n",
      "Classifier: Decision Tree Classifier\n",
      "Average Accuracy: 0.8905\n",
      "Average Precision: 0.8894\n",
      "Average Recall: 0.8974\n",
      "-----------------------\n",
      "Classifier: Adaboost Classifier\n",
      "Average Accuracy: 0.9396\n",
      "Average Precision: 0.9408\n",
      "Average Recall: 0.9395\n",
      "-----------------------\n",
      "Classifier: Random Forest Classifier\n",
      "Average Accuracy: 0.9592\n",
      "Average Precision: 0.9547\n",
      "Average Recall: 0.9466\n",
      "-----------------------\n",
      "Classifier: KNN Classifier\n",
      "Average Accuracy: 0.7627\n",
      "Average Precision: 0.7758\n",
      "Average Recall: 0.7625\n",
      "-----------------------\n",
      "Classifier: Gaussion NB Classifier\n",
      "Average Accuracy: 0.8442\n",
      "Average Precision: 0.8484\n",
      "Average Recall: 0.8442\n",
      "-----------------------\n",
      "Classifier: XGB Classifier\n",
      "Average Accuracy: 0.9536\n",
      "Average Precision: 0.9544\n",
      "Average Recall: 0.9536\n",
      "-----------------------\n"
     ]
    }
   ],
   "source": [
    "# List of classifiers to test\n",
    "classifiers = [\n",
    "    ('Logistic Regression', LogisticRegression()),\n",
    "    ('Decision Tree Classifier', DecisionTreeClassifier()),\n",
    "    ('Adaboost Classifier', AdaBoostClassifier()),\n",
    "    ('Random Forest Classifier', RandomForestClassifier()),\n",
    "    ('KNN Classifier', KNeighborsClassifier(n_neighbors=5)),\n",
    "    ('Gaussion NB Classifier',GaussianNB()),\n",
    "    ('XGB Classifier', XGBClassifier())\n",
    "]\n",
    "\n",
    "# iterating over classifiers\n",
    "for clf, clf_algo in classifiers:\n",
    "    \n",
    "    # applying k-fold cross validation score\n",
    "    scores = cross_val_score(estimator=clf_algo, X=X_train, y = y_train, cv=5, scoring='accuracy')\n",
    "    \n",
    "    # calculating average performance of the metrics\n",
    "    avg_score = scores.mean()\n",
    "    \n",
    "    # calculating average precision of classifiers\n",
    "    avg_precision = cross_val_score(estimator=clf_algo, X=X_train, y = y_train, cv=5, scoring='precision_macro').mean()\n",
    "    \n",
    "    # calculating average recall of classifiers\n",
    "    avg_recall = cross_val_score(estimator=clf_algo, X=X_train, y = y_train, cv=5, scoring='recall_macro').mean()\n",
    "     \n",
    "    # Print the performance metrics\n",
    "    print(f'Classifier: {clf}')\n",
    "    print(f'Average Accuracy: {avg_score:.4f}')\n",
    "    print(f'Average Precision: {avg_precision:.4f}')\n",
    "    print(f'Average Recall: {avg_recall:.4f}')\n",
    "    print('-----------------------')"
   ]
  },
  {
   "cell_type": "code",
   "execution_count": 27,
   "id": "c2423317-85be-4a11-902c-99f8367c9ce7",
   "metadata": {},
   "outputs": [
    {
     "data": {
      "text/html": [
       "<style type=\"text/css\">\n",
       "#T_d69ff_row0_col1, #T_d69ff_row0_col2, #T_d69ff_row0_col3, #T_d69ff_row0_col5, #T_d69ff_row1_col1, #T_d69ff_row1_col2, #T_d69ff_row1_col3, #T_d69ff_row2_col4, #T_d69ff_row2_col6 {\n",
       "  background-color: #5e4fa2;\n",
       "  color: #f1f1f1;\n",
       "}\n",
       "#T_d69ff_row0_col4 {\n",
       "  background-color: #49a2b2;\n",
       "  color: #f1f1f1;\n",
       "}\n",
       "#T_d69ff_row0_col6 {\n",
       "  background-color: #3f77b5;\n",
       "  color: #f1f1f1;\n",
       "}\n",
       "#T_d69ff_row1_col4 {\n",
       "  background-color: #5c51a3;\n",
       "  color: #f1f1f1;\n",
       "}\n",
       "#T_d69ff_row1_col5 {\n",
       "  background-color: #545ca8;\n",
       "  color: #f1f1f1;\n",
       "}\n",
       "#T_d69ff_row1_col6 {\n",
       "  background-color: #496aaf;\n",
       "  color: #f1f1f1;\n",
       "}\n",
       "#T_d69ff_row2_col1, #T_d69ff_row2_col3 {\n",
       "  background-color: #5061aa;\n",
       "  color: #f1f1f1;\n",
       "}\n",
       "#T_d69ff_row2_col2 {\n",
       "  background-color: #525fa9;\n",
       "  color: #f1f1f1;\n",
       "}\n",
       "#T_d69ff_row2_col5 {\n",
       "  background-color: #4199b6;\n",
       "  color: #f1f1f1;\n",
       "}\n",
       "#T_d69ff_row3_col1, #T_d69ff_row3_col3 {\n",
       "  background-color: #f5fbaf;\n",
       "  color: #000000;\n",
       "}\n",
       "#T_d69ff_row3_col2 {\n",
       "  background-color: #f0f9a7;\n",
       "  color: #000000;\n",
       "}\n",
       "#T_d69ff_row3_col4 {\n",
       "  background-color: #bfe5a0;\n",
       "  color: #000000;\n",
       "}\n",
       "#T_d69ff_row3_col5, #T_d69ff_row5_col5 {\n",
       "  background-color: #f1f9a9;\n",
       "  color: #000000;\n",
       "}\n",
       "#T_d69ff_row3_col6 {\n",
       "  background-color: #c3e79f;\n",
       "  color: #000000;\n",
       "}\n",
       "#T_d69ff_row4_col1, #T_d69ff_row4_col3 {\n",
       "  background-color: #ea5e47;\n",
       "  color: #f1f1f1;\n",
       "}\n",
       "#T_d69ff_row4_col2 {\n",
       "  background-color: #fdad60;\n",
       "  color: #000000;\n",
       "}\n",
       "#T_d69ff_row4_col4, #T_d69ff_row4_col5, #T_d69ff_row5_col6, #T_d69ff_row6_col1, #T_d69ff_row6_col2, #T_d69ff_row6_col3 {\n",
       "  background-color: #9e0142;\n",
       "  color: #f1f1f1;\n",
       "}\n",
       "#T_d69ff_row4_col6 {\n",
       "  background-color: #56b0ad;\n",
       "  color: #f1f1f1;\n",
       "}\n",
       "#T_d69ff_row5_col1, #T_d69ff_row5_col3, #T_d69ff_row6_col4 {\n",
       "  background-color: #e55749;\n",
       "  color: #f1f1f1;\n",
       "}\n",
       "#T_d69ff_row5_col2 {\n",
       "  background-color: #c72e4c;\n",
       "  color: #f1f1f1;\n",
       "}\n",
       "#T_d69ff_row5_col4 {\n",
       "  background-color: #fff0a6;\n",
       "  color: #000000;\n",
       "}\n",
       "#T_d69ff_row6_col5 {\n",
       "  background-color: #f06744;\n",
       "  color: #f1f1f1;\n",
       "}\n",
       "#T_d69ff_row6_col6 {\n",
       "  background-color: #e3534a;\n",
       "  color: #f1f1f1;\n",
       "}\n",
       "</style>\n",
       "<table id=\"T_d69ff\">\n",
       "  <thead>\n",
       "    <tr>\n",
       "      <th class=\"blank level0\" >&nbsp;</th>\n",
       "      <th id=\"T_d69ff_level0_col0\" class=\"col_heading level0 col0\" >Model</th>\n",
       "      <th id=\"T_d69ff_level0_col1\" class=\"col_heading level0 col1\" >Accuracy Score</th>\n",
       "      <th id=\"T_d69ff_level0_col2\" class=\"col_heading level0 col2\" >F1 Score</th>\n",
       "      <th id=\"T_d69ff_level0_col3\" class=\"col_heading level0 col3\" >ROC AUC Score</th>\n",
       "      <th id=\"T_d69ff_level0_col4\" class=\"col_heading level0 col4\" >average Cross Val Score</th>\n",
       "      <th id=\"T_d69ff_level0_col5\" class=\"col_heading level0 col5\" >precision_score</th>\n",
       "      <th id=\"T_d69ff_level0_col6\" class=\"col_heading level0 col6\" >recall_score</th>\n",
       "    </tr>\n",
       "  </thead>\n",
       "  <tbody>\n",
       "    <tr>\n",
       "      <th id=\"T_d69ff_level0_row0\" class=\"row_heading level0 row0\" >2</th>\n",
       "      <td id=\"T_d69ff_row0_col0\" class=\"data row0 col0\" >Adaboost Classifier</td>\n",
       "      <td id=\"T_d69ff_row0_col1\" class=\"data row0 col1\" >0.970588</td>\n",
       "      <td id=\"T_d69ff_row0_col2\" class=\"data row0 col2\" >0.970492</td>\n",
       "      <td id=\"T_d69ff_row0_col3\" class=\"data row0 col3\" >0.970588</td>\n",
       "      <td id=\"T_d69ff_row0_col4\" class=\"data row0 col4\" >0.928384</td>\n",
       "      <td id=\"T_d69ff_row0_col5\" class=\"data row0 col5\" >0.973684</td>\n",
       "      <td id=\"T_d69ff_row0_col6\" class=\"data row0 col6\" >0.967320</td>\n",
       "    </tr>\n",
       "    <tr>\n",
       "      <th id=\"T_d69ff_level0_row1\" class=\"row_heading level0 row1\" >3</th>\n",
       "      <td id=\"T_d69ff_row1_col0\" class=\"data row1 col0\" >Random Forest Classifier</td>\n",
       "      <td id=\"T_d69ff_row1_col1\" class=\"data row1 col1\" >0.970588</td>\n",
       "      <td id=\"T_d69ff_row1_col2\" class=\"data row1 col2\" >0.970684</td>\n",
       "      <td id=\"T_d69ff_row1_col3\" class=\"data row1 col3\" >0.970588</td>\n",
       "      <td id=\"T_d69ff_row1_col4\" class=\"data row1 col4\" >0.956436</td>\n",
       "      <td id=\"T_d69ff_row1_col5\" class=\"data row1 col5\" >0.967532</td>\n",
       "      <td id=\"T_d69ff_row1_col6\" class=\"data row1 col6\" >0.973856</td>\n",
       "    </tr>\n",
       "    <tr>\n",
       "      <th id=\"T_d69ff_level0_row2\" class=\"row_heading level0 row2\" >6</th>\n",
       "      <td id=\"T_d69ff_row2_col0\" class=\"data row2 col0\" >XGB Classifier</td>\n",
       "      <td id=\"T_d69ff_row2_col1\" class=\"data row2 col1\" >0.964052</td>\n",
       "      <td id=\"T_d69ff_row2_col2\" class=\"data row2 col2\" >0.964856</td>\n",
       "      <td id=\"T_d69ff_row2_col3\" class=\"data row2 col3\" >0.964052</td>\n",
       "      <td id=\"T_d69ff_row2_col4\" class=\"data row2 col4\" >0.957844</td>\n",
       "      <td id=\"T_d69ff_row2_col5\" class=\"data row2 col5\" >0.943750</td>\n",
       "      <td id=\"T_d69ff_row2_col6\" class=\"data row2 col6\" >0.986928</td>\n",
       "    </tr>\n",
       "    <tr>\n",
       "      <th id=\"T_d69ff_level0_row3\" class=\"row_heading level0 row3\" >1</th>\n",
       "      <td id=\"T_d69ff_row3_col0\" class=\"data row3 col0\" >Decision Tree Classifier</td>\n",
       "      <td id=\"T_d69ff_row3_col1\" class=\"data row3 col1\" >0.882353</td>\n",
       "      <td id=\"T_d69ff_row3_col2\" class=\"data row3 col2\" >0.883871</td>\n",
       "      <td id=\"T_d69ff_row3_col3\" class=\"data row3 col3\" >0.882353</td>\n",
       "      <td id=\"T_d69ff_row3_col4\" class=\"data row3 col4\" >0.890473</td>\n",
       "      <td id=\"T_d69ff_row3_col5\" class=\"data row3 col5\" >0.872611</td>\n",
       "      <td id=\"T_d69ff_row3_col6\" class=\"data row3 col6\" >0.895425</td>\n",
       "    </tr>\n",
       "    <tr>\n",
       "      <th id=\"T_d69ff_level0_row4\" class=\"row_heading level0 row4\" >4</th>\n",
       "      <td id=\"T_d69ff_row4_col0\" class=\"data row4 col0\" >KNN Classifier</td>\n",
       "      <td id=\"T_d69ff_row4_col1\" class=\"data row4 col1\" >0.810458</td>\n",
       "      <td id=\"T_d69ff_row4_col2\" class=\"data row4 col2\" >0.832370</td>\n",
       "      <td id=\"T_d69ff_row4_col3\" class=\"data row4 col3\" >0.810458</td>\n",
       "      <td id=\"T_d69ff_row4_col4\" class=\"data row4 col4\" >0.755634</td>\n",
       "      <td id=\"T_d69ff_row4_col5\" class=\"data row4 col5\" >0.746114</td>\n",
       "      <td id=\"T_d69ff_row4_col6\" class=\"data row4 col6\" >0.941176</td>\n",
       "    </tr>\n",
       "    <tr>\n",
       "      <th id=\"T_d69ff_level0_row5\" class=\"row_heading level0 row5\" >5</th>\n",
       "      <td id=\"T_d69ff_row5_col0\" class=\"data row5 col0\" >Gaussion NB Classifier</td>\n",
       "      <td id=\"T_d69ff_row5_col1\" class=\"data row5 col1\" >0.807190</td>\n",
       "      <td id=\"T_d69ff_row5_col2\" class=\"data row5 col2\" >0.788530</td>\n",
       "      <td id=\"T_d69ff_row5_col3\" class=\"data row5 col3\" >0.807190</td>\n",
       "      <td id=\"T_d69ff_row5_col4\" class=\"data row5 col4\" >0.846948</td>\n",
       "      <td id=\"T_d69ff_row5_col5\" class=\"data row5 col5\" >0.873016</td>\n",
       "      <td id=\"T_d69ff_row5_col6\" class=\"data row5 col6\" >0.718954</td>\n",
       "    </tr>\n",
       "    <tr>\n",
       "      <th id=\"T_d69ff_level0_row6\" class=\"row_heading level0 row6\" >0</th>\n",
       "      <td id=\"T_d69ff_row6_col0\" class=\"data row6 col0\" >Logistic Regression</td>\n",
       "      <td id=\"T_d69ff_row6_col1\" class=\"data row6 col1\" >0.777778</td>\n",
       "      <td id=\"T_d69ff_row6_col2\" class=\"data row6 col2\" >0.773333</td>\n",
       "      <td id=\"T_d69ff_row6_col3\" class=\"data row6 col3\" >0.777778</td>\n",
       "      <td id=\"T_d69ff_row6_col4\" class=\"data row6 col4\" >0.786522</td>\n",
       "      <td id=\"T_d69ff_row6_col5\" class=\"data row6 col5\" >0.789116</td>\n",
       "      <td id=\"T_d69ff_row6_col6\" class=\"data row6 col6\" >0.758170</td>\n",
       "    </tr>\n",
       "  </tbody>\n",
       "</table>\n"
      ],
      "text/plain": [
       "<pandas.io.formats.style.Styler at 0x2a7d8646390>"
      ]
     },
     "execution_count": 27,
     "metadata": {},
     "output_type": "execute_result"
    }
   ],
   "source": [
    "# BASE MODEL:\n",
    "\n",
    "def accuracy_df(X,y):\n",
    "    X_train, X_test, y_train, y_test = train_test_split(X, y, test_size=0.3, random_state=42)\n",
    "    classifiers = [\n",
    "    ('Logistic Regression', LogisticRegression()),\n",
    "    ('Decision Tree Classifier', DecisionTreeClassifier()),\n",
    "    ('Adaboost Classifier', AdaBoostClassifier()),\n",
    "    ('Random Forest Classifier', RandomForestClassifier()),\n",
    "    ('KNN Classifier', KNeighborsClassifier(n_neighbors=5)),\n",
    "    ('Gaussion NB Classifier',GaussianNB()),\n",
    "    ('XGB Classifier', XGBClassifier())\n",
    "    ]\n",
    "    \n",
    "\n",
    "    results = pd.DataFrame(columns=[\"Model\",\"Accuracy Score\",\"F1 Score\",\"ROC AUC Score\",\n",
    "                              \"average Cross Val Score\",\"precision_score\",\"recall_score\"])\n",
    "    for model_name, model  in classifiers:\n",
    "        model.fit(X_train,y_train)\n",
    "        y_pred=model.predict(X_test)\n",
    "        acc=accuracy_score(y_test,y_pred)\n",
    "        f1=f1_score(y_test,y_pred)\n",
    "        roc=roc_auc_score(y_test,y_pred)\n",
    "        average_cv=cv=cross_val_score(model,X_train,y_train,cv=10).mean()\n",
    "        ps=precision_score(y_test,y_pred)\n",
    "        rs=recall_score(y_test,y_pred)\n",
    "    \n",
    "        results = results._append({\"Model\": model_name,\n",
    "                            \"Accuracy Score\":acc,\n",
    "                            \"F1 Score\":f1,\n",
    "                            \"ROC AUC Score\":roc,\n",
    "                            \"average Cross Val Score\":average_cv,\n",
    "                            \"precision_score\":ps,\n",
    "                            \"recall_score\":rs},ignore_index=True)\n",
    "    \n",
    "\n",
    "    results=results.sort_values(by=\"Accuracy Score\",ascending=False)\n",
    "    results=results.style.background_gradient(cmap=\"Spectral\")\n",
    "    \n",
    "    return results\n",
    "\n",
    "all_results = accuracy_df(X_sm, Y_sm)\n",
    "all_results"
   ]
  },
  {
   "cell_type": "markdown",
   "id": "c8418ae9-80ee-4a22-ab16-028050633f0b",
   "metadata": {},
   "source": [
    "## 13. MODEL TUNING"
   ]
  },
  {
   "cell_type": "code",
   "execution_count": 16,
   "id": "f87a81fb-db96-4da0-a148-ddc37b890a07",
   "metadata": {},
   "outputs": [
    {
     "name": "stdout",
     "output_type": "stream",
     "text": [
      "Model tuning is starting...\n",
      "Model count:  3\n",
      "CV:  10\n",
      "Scoring:  accuracy\n",
      "Model list:  ['RF', 'XGB', 'ADA']\n",
      "--------------------------------------------------\n",
      "Model: RF is tuning...\n",
      "accuracy (Before): 0.9676\n",
      "accuracy (After): 0.9666\n",
      "RF best params: {'max_depth': 10, 'max_features': 2, 'n_estimators': 1000}\n",
      "\n",
      "Model: XGB is tuning...\n",
      "accuracy (Before): 0.9666\n",
      "accuracy (After): 0.9695\n",
      "XGB best params: {'learning_rate': 0.1, 'max_depth': 3, 'n_estimators': 500}\n",
      "\n",
      "Model: ADA is tuning...\n",
      "accuracy (Before): 0.9352\n",
      "accuracy (After): 0.9548\n",
      "ADA best params: {'learning_rate': 1.0, 'n_estimators': 1000}\n",
      "\n"
     ]
    }
   ],
   "source": [
    "# hypermetre tuning:\n",
    "\n",
    "rf_params={'max_depth': [2, 5, 8, 10],\n",
    "              'max_features': [2, 5, 8],\n",
    "                'n_estimators': [10, 500, 1000]}\n",
    "\n",
    "xgb_params={'learning_rate': [0.1, 0.01, 0.001],\n",
    "                'max_depth': [3, 5, 8, 10],\n",
    "                'n_estimators': [10, 500, 1000]}\n",
    "\n",
    "ada_params = {\"n_estimators\": [10, 100, 500, 1000],\n",
    "                \"learning_rate\": [0.01, 0.1, 1.0, 10.0]}\n",
    "\n",
    "# list of tuple containing models and their names:\n",
    "\n",
    "models=[('RF', RandomForestClassifier(), rf_params),\n",
    "        ('XGB', XGBClassifier(), xgb_params),\n",
    "        ('ADA', AdaBoostClassifier(), ada_params)]\n",
    "\n",
    "def model_tuning(X , y, cv=10, scoring=\"accuracy\"):\n",
    "    print(\"Model tuning is starting...\")\n",
    "    print(\"Model count: \", len(models))\n",
    "    print(\"CV: \", cv)\n",
    "    print(\"Scoring: \", scoring)\n",
    "    print(\"Model list: \", [i[0] for i in models])\n",
    "    print(\"--------------------------------------------------\")\n",
    "    \n",
    "    best_models={}\n",
    "    \n",
    "    for name, model, params in models:\n",
    "        print(f\"Model: {name} is tuning...\")\n",
    "        cv_results=cross_validate(model, X, y, cv=cv, scoring=scoring, return_train_score=True)\n",
    "        print(f\"{scoring} (Before): {round(cv_results['test_score'].mean(),4)}\")\n",
    "        \n",
    "        gs_best=GridSearchCV(model, params, cv=cv, n_jobs=-1, verbose=False).fit(X,y)\n",
    "        final_model=model.set_params(**gs_best.best_params_)\n",
    "        \n",
    "        cv_results=cross_validate(final_model, X, y, cv=cv, scoring=scoring, return_train_score=True)\n",
    "        print(f\"{scoring} (After): {round(cv_results['test_score'].mean(),4)}\")\n",
    "        print(f\"{name} best params: {gs_best.best_params_}\", end=\"\\n\\n\")\n",
    "        best_models[name]=final_model\n",
    "    return best_models\n",
    "\n",
    "best_models=model_tuning(X_sm,Y_sm)"
   ]
  },
  {
   "cell_type": "markdown",
   "id": "d9f9d980-aa29-43b7-a68f-986896dcf0cf",
   "metadata": {},
   "source": [
    "## final model RANDOM FOREST"
   ]
  },
  {
   "cell_type": "code",
   "execution_count": 28,
   "id": "db8ae1b4-c89c-4a8d-9814-393d349a73a8",
   "metadata": {},
   "outputs": [
    {
     "data": {
      "text/plain": [
       "1.0"
      ]
     },
     "execution_count": 28,
     "metadata": {},
     "output_type": "execute_result"
    }
   ],
   "source": [
    "Rm_model = RandomForestClassifier(max_depth = 10, max_features = 2, n_estimators = 1000).fit(X_train, y_train)\n",
    "predict_y = Rm_model.predict(X_train)\n",
    "Rm_model.score(X_train, y_train)"
   ]
  },
  {
   "cell_type": "code",
   "execution_count": 29,
   "id": "0434c96a-4aaa-4871-886e-b6bb10e06799",
   "metadata": {},
   "outputs": [
    {
     "data": {
      "text/plain": [
       "1.0"
      ]
     },
     "execution_count": 29,
     "metadata": {},
     "output_type": "execute_result"
    }
   ],
   "source": [
    "accuracy_score(predict_y, y_train)"
   ]
  },
  {
   "cell_type": "code",
   "execution_count": 30,
   "id": "308231ca-5ded-42ae-95f8-78d6d3843112",
   "metadata": {
    "scrolled": true
   },
   "outputs": [
    {
     "data": {
      "text/plain": [
       "0.9705882352941176"
      ]
     },
     "execution_count": 30,
     "metadata": {},
     "output_type": "execute_result"
    }
   ],
   "source": [
    "predict_test_y = Rm_model.predict(X_test)\n",
    "Rm_model.score(X_test, y_test)"
   ]
  },
  {
   "cell_type": "code",
   "execution_count": 31,
   "id": "cbc74dcd-acda-4076-9905-0ea0c6268fa6",
   "metadata": {},
   "outputs": [
    {
     "data": {
      "text/plain": [
       "0.9705882352941176"
      ]
     },
     "execution_count": 31,
     "metadata": {},
     "output_type": "execute_result"
    }
   ],
   "source": [
    "accuracy_score(predict_test_y, y_test)"
   ]
  },
  {
   "cell_type": "code",
   "execution_count": 32,
   "id": "34c03a72-f196-4a0a-813d-66aa32d6f53e",
   "metadata": {},
   "outputs": [],
   "source": [
    "# Method to evaluate the performance of the model\n",
    "def evaluate_model(y_act,y_pred):\n",
    "    print(\"Classification Report\\n\")\n",
    "    print(classification_report(y_act,y_pred))\n",
    "    \n",
    "    print(\"\\n---------------------------------------------\\n\")\n",
    "    # Compute confusion matrix\n",
    "    cm = confusion_matrix(y_act,y_pred)\n",
    "\n",
    "    # Create a heatmap of the confusion matrix using Seaborn\n",
    "    sns.heatmap(cm, annot=True,fmt='.0f')\n",
    "\n",
    "    plt.xlabel('Predicted Labels')\n",
    "    plt.ylabel('True Labels')\n",
    "    plt.title('Confusion Matrix')\n",
    "\n",
    "    plt.show()"
   ]
  },
  {
   "cell_type": "code",
   "execution_count": 33,
   "id": "b87c1917-ca7b-4900-8e09-634a21e4e42e",
   "metadata": {},
   "outputs": [
    {
     "name": "stdout",
     "output_type": "stream",
     "text": [
      "Classification Report\n",
      "\n",
      "              precision    recall  f1-score   support\n",
      "\n",
      "           0       0.99      0.95      0.97       153\n",
      "           1       0.96      0.99      0.97       153\n",
      "\n",
      "    accuracy                           0.97       306\n",
      "   macro avg       0.97      0.97      0.97       306\n",
      "weighted avg       0.97      0.97      0.97       306\n",
      "\n",
      "\n",
      "---------------------------------------------\n",
      "\n"
     ]
    },
    {
     "data": {
      "image/png": "[encoded data removed]",
      "text/plain": [
       "<Figure size 640x480 with 2 Axes>"
      ]
     },
     "metadata": {},
     "output_type": "display_data"
    }
   ],
   "source": [
    "# Evaluating the model\n",
    "evaluate_model(y_test, predict_test_y)"
   ]
  },
  {
   "cell_type": "code",
   "execution_count": 34,
   "id": "2efb248d-b334-4638-8ce6-33d38bc63949",
   "metadata": {},
   "outputs": [
    {
     "name": "stdout",
     "output_type": "stream",
     "text": [
      "Classification Report\n",
      "\n",
      "              precision    recall  f1-score   support\n",
      "\n",
      "           0       1.00      1.00      1.00       356\n",
      "           1       1.00      1.00      1.00       356\n",
      "\n",
      "    accuracy                           1.00       712\n",
      "   macro avg       1.00      1.00      1.00       712\n",
      "weighted avg       1.00      1.00      1.00       712\n",
      "\n",
      "\n",
      "---------------------------------------------\n",
      "\n"
     ]
    },
    {
     "data": {
      "image/png": "[encoded data removed]",
      "text/plain": [
       "<Figure size 640x480 with 2 Axes>"
      ]
     },
     "metadata": {},
     "output_type": "display_data"
    }
   ],
   "source": [
    "# Evaluating the model\n",
    "evaluate_model(y_train, predict_y)"
   ]
  },
  {
   "cell_type": "markdown",
   "id": "0e1b6dec-b57b-4247-82ac-369ee54fb307",
   "metadata": {},
   "source": [
    "## 11. FEATURE IMPORTANCE"
   ]
  },
  {
   "cell_type": "code",
   "execution_count": 29,
   "id": "071a61ad-7e5a-4a74-828b-9662c6559bae",
   "metadata": {
    "scrolled": true
   },
   "outputs": [
    {
     "data": {
      "text/plain": [
       "<AxesSubplot: >"
      ]
     },
     "execution_count": 29,
     "metadata": {},
     "output_type": "execute_result"
    },
    {
     "data": {
      "image/png": "[encoded data removed]",
      "text/plain": [
       "<Figure size 1000x600 with 1 Axes>"
      ]
     },
     "metadata": {},
     "output_type": "display_data"
    }
   ],
   "source": [
    "feature_imp = Rm_model.feature_importances_\n",
    "feature_df = pd.DataFrame(data=feature_imp, index=data.columns[:-1], columns=[\"Feature Importance\"])\n",
    "\n",
    "feature_df.sort_values(by='Feature Importance',ascending=False).plot(kind=\"bar\",figsize=(10,6), fontsize=(9))"
   ]
  },
  {
   "cell_type": "markdown",
   "id": "16208ebf-931d-4c67-bf80-898ffd096ce4",
   "metadata": {},
   "source": [
    "## 12 AUC-ROC"
   ]
  },
  {
   "cell_type": "code",
   "execution_count": 35,
   "id": "c0290389-ebf1-49eb-8e94-bb47ab8e0016",
   "metadata": {},
   "outputs": [
    {
     "data": {
      "image/png": "[encoded data removed]",
      "text/plain": [
       "<Figure size 800x600 with 1 Axes>"
      ]
     },
     "metadata": {},
     "output_type": "display_data"
    }
   ],
   "source": [
    "# AUC_ROC Curve:\n",
    "def AUC_ROC(model, y_act, x_act, figure_size=((8, 6))):\n",
    "    y_prob = Rm_model.predict_proba(x_act)[:,1]\n",
    "    fpr, tpr, thresholds = roc_curve(y_act, y_prob)\n",
    "    plt.figure(figsize = figure_size)\n",
    "    plt.plot(fpr, tpr, label = \"AUC = %0.2f\" % roc_auc_score(y_act, y_prob))\n",
    "    plt.plot([0, 1], [0, 1],'r--')\n",
    "    plt.legend(loc = 'lower right')\n",
    "    plt.title(\"ROC Curve of \"+Rm_model.__class__.__name__, size = 15)\n",
    "    plt.xlabel(\"False Positive Rate\")\n",
    "    plt.ylabel(\"True Positive Rate\")\n",
    "    plt.show()\n",
    "\n",
    "AUC_ROC(Rm_model, x_act = X_test, y_act = y_test)"
   ]
  },
  {
   "cell_type": "code",
   "execution_count": 36,
   "id": "df1e68ec-7b36-4a5e-bfb8-b55b3d48c60d",
   "metadata": {},
   "outputs": [
    {
     "data": {
      "image/png": "[encoded data removed]",
      "text/plain": [
       "<Figure size 800x600 with 1 Axes>"
      ]
     },
     "metadata": {},
     "output_type": "display_data"
    }
   ],
   "source": [
    "AUC_ROC(Rm_model, x_act=X_train, y_act=y_train)"
   ]
  },
  {
   "cell_type": "markdown",
   "id": "aa203c95-d3c1-4e3c-8eb8-1caa7f204173",
   "metadata": {},
   "source": [
    "## Data preparation for test "
   ]
  },
  {
   "cell_type": "code",
   "execution_count": 46,
   "id": "d82592a0-e61c-482a-9042-4bbdcaede3d3",
   "metadata": {},
   "outputs": [],
   "source": [
    "# testing on the test set\n",
    "\n",
    "path = r\"E:/My_Model/ML_Projects/1_Identifying_Age_Related_Conditions/data\"\n",
    "\n",
    "df = pd.read_csv(f\"{path}/test.csv\")\n",
    "data = df.copy()\n",
    "\n",
    "# prepare the data\n",
    "def prepare_data(data):\n",
    "    \n",
    "    # data = data.drop([\"Id\"],axis=1)\n",
    "    # separate the categorical and numeric columns\n",
    "    cat_cols = [col  for col in data.columns if data[col].dtype == \"O\"]\n",
    "    num_cols = [col for col in data.columns if data[col].dtype != \"O\"]\n",
    "\n",
    "    # detect the outliers\n",
    "    a1 = 0.05\n",
    "    a3 = 0.95\n",
    "    for col in num_cols:\n",
    "        q1=data[col].quantile(a1)\n",
    "        q3=data[col].quantile(a3)\n",
    "        \n",
    "        IQR=q3-q1\n",
    "        \n",
    "        up_limit = q3 + 1.5 * IQR\n",
    "        low_limit = q1 - 1.5 * IQR\n",
    "\n",
    "        # capping the outliers\n",
    "        data[col] = np.where(data[col] > up_limit, up_limit, data[col])\n",
    "        data[col] = np.where(data[col] < low_limit, low_limit, data[col])\n",
    "\n",
    "    # return data\n",
    "    \n",
    "    for col in data.columns:\n",
    "        if data[col].dtype == 'object' and col !=\"Id\":\n",
    "            if data[col].nunique() <= 2:\n",
    "                le = LabelEncoder()\n",
    "                data[col] = le.fit_transform(data[col])\n",
    "            elif data[col].nunique() > 2  and data[col].nunique() <= 10:\n",
    "                ohe = OneHotEncoder()\n",
    "                ohe_df = pd.DataFrame(ohe.fit_transform(data[[col]]).toarray())\n",
    "                ohe_df.columns = [col + \"_\" + str(i) for i in ohe_df.columns]\n",
    "                data = data.join(ohe_df)\n",
    "                data = data.drop(col, axis=1)\n",
    "    \n",
    "        \n",
    "    # # sclr = StandardScaler()\n",
    "    # for col in data.columns:\n",
    "    #     if col !=\"Id\":\n",
    "    #         data[col]=scaler.transform(data[[col]])\n",
    "            \n",
    "    return data"
   ]
  },
  {
   "cell_type": "code",
   "execution_count": 47,
   "id": "3eba5c37-8c98-4c3b-aa46-f1e55915cfa6",
   "metadata": {},
   "outputs": [],
   "source": [
    "preprocesed_data = prepare_data(df)"
   ]
  },
  {
   "cell_type": "code",
   "execution_count": 65,
   "id": "95cad006-7c79-402f-8aba-4bf305de13a0",
   "metadata": {},
   "outputs": [
    {
     "data": {
      "text/plain": [
       "Index(['AB', 'AF', 'AH', 'AM', 'AR', 'AX', 'AY', 'AZ', 'BC', 'BD ', 'BN', 'BP',\n",
       "       'BQ', 'BR', 'BZ', 'CB', 'CC', 'CD ', 'CF', 'CH', 'CL', 'CR', 'CS', 'CU',\n",
       "       'CW ', 'DA', 'DE', 'DF', 'DH', 'DI', 'DL', 'DN', 'DU', 'DV', 'DY', 'EB',\n",
       "       'EE', 'EG', 'EH', 'EJ', 'EL', 'EP', 'EU', 'FC', 'FD ', 'FE', 'FI', 'FL',\n",
       "       'FR', 'FS', 'GB', 'GE', 'GF', 'GH', 'GI', 'GL'],\n",
       "      dtype='object')"
      ]
     },
     "execution_count": 65,
     "metadata": {},
     "output_type": "execute_result"
    }
   ],
   "source": [
    "preprocesed_data.columns[1:]"
   ]
  },
  {
   "cell_type": "code",
   "execution_count": 59,
   "id": "fe8b267e-5f98-49e6-8296-ea2616b1bf84",
   "metadata": {},
   "outputs": [
    {
     "data": {
      "text/html": [
       "<div>\n",
       "<style scoped>\n",
       "    .dataframe tbody tr th:only-of-type {\n",
       "        vertical-align: middle;\n",
       "    }\n",
       "\n",
       "    .dataframe tbody tr th {\n",
       "        vertical-align: top;\n",
       "    }\n",
       "\n",
       "    .dataframe thead th {\n",
       "        text-align: right;\n",
       "    }\n",
       "</style>\n",
       "<table border=\"1\" class=\"dataframe\">\n",
       "  <thead>\n",
       "    <tr style=\"text-align: right;\">\n",
       "      <th></th>\n",
       "      <th>AB</th>\n",
       "      <th>AF</th>\n",
       "      <th>AH</th>\n",
       "      <th>AM</th>\n",
       "      <th>AR</th>\n",
       "      <th>AX</th>\n",
       "      <th>AY</th>\n",
       "      <th>AZ</th>\n",
       "      <th>BC</th>\n",
       "      <th>BD</th>\n",
       "      <th>...</th>\n",
       "      <th>FI</th>\n",
       "      <th>FL</th>\n",
       "      <th>FR</th>\n",
       "      <th>FS</th>\n",
       "      <th>GB</th>\n",
       "      <th>GE</th>\n",
       "      <th>GF</th>\n",
       "      <th>GH</th>\n",
       "      <th>GI</th>\n",
       "      <th>GL</th>\n",
       "    </tr>\n",
       "  </thead>\n",
       "  <tbody>\n",
       "    <tr>\n",
       "      <th>0</th>\n",
       "      <td>0.0</td>\n",
       "      <td>0.0</td>\n",
       "      <td>0.0</td>\n",
       "      <td>0.0</td>\n",
       "      <td>0.0</td>\n",
       "      <td>0.0</td>\n",
       "      <td>0.0</td>\n",
       "      <td>0.0</td>\n",
       "      <td>0.0</td>\n",
       "      <td>0.0</td>\n",
       "      <td>...</td>\n",
       "      <td>0.0</td>\n",
       "      <td>0.0</td>\n",
       "      <td>0.0</td>\n",
       "      <td>0.0</td>\n",
       "      <td>0.0</td>\n",
       "      <td>0.0</td>\n",
       "      <td>0.0</td>\n",
       "      <td>0.0</td>\n",
       "      <td>0.0</td>\n",
       "      <td>0.0</td>\n",
       "    </tr>\n",
       "    <tr>\n",
       "      <th>1</th>\n",
       "      <td>0.0</td>\n",
       "      <td>0.0</td>\n",
       "      <td>0.0</td>\n",
       "      <td>0.0</td>\n",
       "      <td>0.0</td>\n",
       "      <td>0.0</td>\n",
       "      <td>0.0</td>\n",
       "      <td>0.0</td>\n",
       "      <td>0.0</td>\n",
       "      <td>0.0</td>\n",
       "      <td>...</td>\n",
       "      <td>0.0</td>\n",
       "      <td>0.0</td>\n",
       "      <td>0.0</td>\n",
       "      <td>0.0</td>\n",
       "      <td>0.0</td>\n",
       "      <td>0.0</td>\n",
       "      <td>0.0</td>\n",
       "      <td>0.0</td>\n",
       "      <td>0.0</td>\n",
       "      <td>0.0</td>\n",
       "    </tr>\n",
       "    <tr>\n",
       "      <th>2</th>\n",
       "      <td>0.0</td>\n",
       "      <td>0.0</td>\n",
       "      <td>0.0</td>\n",
       "      <td>0.0</td>\n",
       "      <td>0.0</td>\n",
       "      <td>0.0</td>\n",
       "      <td>0.0</td>\n",
       "      <td>0.0</td>\n",
       "      <td>0.0</td>\n",
       "      <td>0.0</td>\n",
       "      <td>...</td>\n",
       "      <td>0.0</td>\n",
       "      <td>0.0</td>\n",
       "      <td>0.0</td>\n",
       "      <td>0.0</td>\n",
       "      <td>0.0</td>\n",
       "      <td>0.0</td>\n",
       "      <td>0.0</td>\n",
       "      <td>0.0</td>\n",
       "      <td>0.0</td>\n",
       "      <td>0.0</td>\n",
       "    </tr>\n",
       "    <tr>\n",
       "      <th>3</th>\n",
       "      <td>0.0</td>\n",
       "      <td>0.0</td>\n",
       "      <td>0.0</td>\n",
       "      <td>0.0</td>\n",
       "      <td>0.0</td>\n",
       "      <td>0.0</td>\n",
       "      <td>0.0</td>\n",
       "      <td>0.0</td>\n",
       "      <td>0.0</td>\n",
       "      <td>0.0</td>\n",
       "      <td>...</td>\n",
       "      <td>0.0</td>\n",
       "      <td>0.0</td>\n",
       "      <td>0.0</td>\n",
       "      <td>0.0</td>\n",
       "      <td>0.0</td>\n",
       "      <td>0.0</td>\n",
       "      <td>0.0</td>\n",
       "      <td>0.0</td>\n",
       "      <td>0.0</td>\n",
       "      <td>0.0</td>\n",
       "    </tr>\n",
       "    <tr>\n",
       "      <th>4</th>\n",
       "      <td>0.0</td>\n",
       "      <td>0.0</td>\n",
       "      <td>0.0</td>\n",
       "      <td>0.0</td>\n",
       "      <td>0.0</td>\n",
       "      <td>0.0</td>\n",
       "      <td>0.0</td>\n",
       "      <td>0.0</td>\n",
       "      <td>0.0</td>\n",
       "      <td>0.0</td>\n",
       "      <td>...</td>\n",
       "      <td>0.0</td>\n",
       "      <td>0.0</td>\n",
       "      <td>0.0</td>\n",
       "      <td>0.0</td>\n",
       "      <td>0.0</td>\n",
       "      <td>0.0</td>\n",
       "      <td>0.0</td>\n",
       "      <td>0.0</td>\n",
       "      <td>0.0</td>\n",
       "      <td>0.0</td>\n",
       "    </tr>\n",
       "  </tbody>\n",
       "</table>\n",
       "<p>5 rows × 56 columns</p>\n",
       "</div>"
      ],
      "text/plain": [
       "    AB   AF   AH   AM   AR   AX   AY   AZ   BC  BD   ...   FI   FL   FR   FS  \\\n",
       "0  0.0  0.0  0.0  0.0  0.0  0.0  0.0  0.0  0.0  0.0  ...  0.0  0.0  0.0  0.0   \n",
       "1  0.0  0.0  0.0  0.0  0.0  0.0  0.0  0.0  0.0  0.0  ...  0.0  0.0  0.0  0.0   \n",
       "2  0.0  0.0  0.0  0.0  0.0  0.0  0.0  0.0  0.0  0.0  ...  0.0  0.0  0.0  0.0   \n",
       "3  0.0  0.0  0.0  0.0  0.0  0.0  0.0  0.0  0.0  0.0  ...  0.0  0.0  0.0  0.0   \n",
       "4  0.0  0.0  0.0  0.0  0.0  0.0  0.0  0.0  0.0  0.0  ...  0.0  0.0  0.0  0.0   \n",
       "\n",
       "    GB   GE   GF   GH   GI   GL  \n",
       "0  0.0  0.0  0.0  0.0  0.0  0.0  \n",
       "1  0.0  0.0  0.0  0.0  0.0  0.0  \n",
       "2  0.0  0.0  0.0  0.0  0.0  0.0  \n",
       "3  0.0  0.0  0.0  0.0  0.0  0.0  \n",
       "4  0.0  0.0  0.0  0.0  0.0  0.0  \n",
       "\n",
       "[5 rows x 56 columns]"
      ]
     },
     "execution_count": 59,
     "metadata": {},
     "output_type": "execute_result"
    }
   ],
   "source": [
    "preprocesed_data.drop(\"Id\",axis=1)"
   ]
  },
  {
   "cell_type": "code",
   "execution_count": 68,
   "id": "c8a712be-84c2-4bc1-afb7-497989ecfb00",
   "metadata": {},
   "outputs": [],
   "source": [
    "new = preprocesed_data.drop(\"Id\",axis=1)\n",
    "scaled_test = scaler.transform(new)"
   ]
  },
  {
   "cell_type": "code",
   "execution_count": 69,
   "id": "fca092e2-d5b5-40d7-bfdd-762f14c31496",
   "metadata": {},
   "outputs": [
    {
     "data": {
      "text/html": [
       "<div>\n",
       "<style scoped>\n",
       "    .dataframe tbody tr th:only-of-type {\n",
       "        vertical-align: middle;\n",
       "    }\n",
       "\n",
       "    .dataframe tbody tr th {\n",
       "        vertical-align: top;\n",
       "    }\n",
       "\n",
       "    .dataframe thead th {\n",
       "        text-align: right;\n",
       "    }\n",
       "</style>\n",
       "<table border=\"1\" class=\"dataframe\">\n",
       "  <thead>\n",
       "    <tr style=\"text-align: right;\">\n",
       "      <th></th>\n",
       "      <th>Id</th>\n",
       "      <th>class_0</th>\n",
       "      <th>class_1</th>\n",
       "    </tr>\n",
       "  </thead>\n",
       "  <tbody>\n",
       "    <tr>\n",
       "      <th>0</th>\n",
       "      <td>00eed32682bb</td>\n",
       "      <td>0.7273</td>\n",
       "      <td>0.2727</td>\n",
       "    </tr>\n",
       "    <tr>\n",
       "      <th>1</th>\n",
       "      <td>010ebe33f668</td>\n",
       "      <td>0.7273</td>\n",
       "      <td>0.2727</td>\n",
       "    </tr>\n",
       "    <tr>\n",
       "      <th>2</th>\n",
       "      <td>02fa521e1838</td>\n",
       "      <td>0.7273</td>\n",
       "      <td>0.2727</td>\n",
       "    </tr>\n",
       "    <tr>\n",
       "      <th>3</th>\n",
       "      <td>040e15f562a2</td>\n",
       "      <td>0.7273</td>\n",
       "      <td>0.2727</td>\n",
       "    </tr>\n",
       "    <tr>\n",
       "      <th>4</th>\n",
       "      <td>046e85c7cc7f</td>\n",
       "      <td>0.7273</td>\n",
       "      <td>0.2727</td>\n",
       "    </tr>\n",
       "  </tbody>\n",
       "</table>\n",
       "</div>"
      ],
      "text/plain": [
       "             Id  class_0  class_1\n",
       "0  00eed32682bb   0.7273   0.2727\n",
       "1  010ebe33f668   0.7273   0.2727\n",
       "2  02fa521e1838   0.7273   0.2727\n",
       "3  040e15f562a2   0.7273   0.2727\n",
       "4  046e85c7cc7f   0.7273   0.2727"
      ]
     },
     "execution_count": 69,
     "metadata": {},
     "output_type": "execute_result"
    }
   ],
   "source": [
    "# Submissions:\n",
    "\n",
    "features = [i for i in preprocesed_data.columns if i not in [\"Id\"]]\n",
    "\n",
    "y_pred=Rm_model.predict_proba(preprocesed_data[features])\n",
    "\n",
    "submission = pd.DataFrame(preprocesed_data[\"Id\"],columns=[\"Id\"])\n",
    "submission[\"class_0\"]=y_pred[:,0]\n",
    "submission[\"class_1\"]=y_pred[:,1]\n",
    "submission.to_csv(\"submission.csv\",index=False)\n",
    "\n",
    "submission.head()"
   ]
  },
  {
   "cell_type": "markdown",
   "id": "ee973be1-af24-4f8f-8ab3-519d34bd1324",
   "metadata": {},
   "source": [
    "## 14. CONCLUSION"
   ]
  },
  {
   "cell_type": "markdown",
   "id": "a462566e-c4cb-4025-b289-da0b6ec93e32",
   "metadata": {},
   "source": [
    "I have chosen RandomForestClassifier for submision. I have tried other models like LogisticRegression, KNeighborsClassifier, SVC, GaussianNB, DecisionTreeClassifier, AdaBoostClassifier, XGBClassifier. But the best result was achieved with RandomForestClassifier"
   ]
  }
 ],
 "metadata": {
  "kernelspec": {
   "display_name": "Python 3 (ipykernel)",
   "language": "python",
   "name": "python3"
  },
  "language_info": {
   "codemirror_mode": {
    "name": "ipython",
    "version": 3
   },
   "file_extension": ".py",
   "mimetype": "text/x-python",
   "name": "python",
   "nbconvert_exporter": "python",
   "pygments_lexer": "ipython3",
   "version": "3.11.3"
  }
 },
 "nbformat": 4,
 "nbformat_minor": 5
}
