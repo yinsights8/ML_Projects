{
 "cells": [
  {
   "cell_type": "code",
   "execution_count": 1,
   "id": "5720e40a-4267-43a0-86e9-f52677f0d406",
   "metadata": {},
   "outputs": [],
   "source": [
    "# !pip install --upgrade scikit-learn==1.2.2"
   ]
  },
  {
   "cell_type": "code",
   "execution_count": 2,
   "id": "40348aee-f512-4acd-84fe-299660427129",
   "metadata": {},
   "outputs": [],
   "source": [
    "import pandas as pd\n",
    "import numpy as np\n",
    "\n",
    "import matplotlib.pyplot as plt\n",
    "import seaborn as sns\n",
    "\n",
    "from sklearn.model_selection import train_test_split, RandomizedSearchCV, GridSearchCV\n",
    "from sklearn.tree import DecisionTreeClassifier\n",
    "from sklearn.ensemble import RandomForestClassifier, AdaBoostClassifier\n",
    "from sklearn.naive_bayes import GaussianNB\n",
    "from sklearn.linear_model import LogisticRegression\n",
    "from sklearn.model_selection import cross_val_score, cross_validate\n",
    "from sklearn.neighbors import KNeighborsClassifier\n",
    "from xgboost import XGBClassifier\n",
    "from sklearn.preprocessing import MinMaxScaler, StandardScaler, OneHotEncoder, LabelEncoder\n",
    "from sklearn.metrics import accuracy_score, precision_score, recall_score, precision_score,recall_score\n",
    "from sklearn.metrics import roc_curve, classification_report,confusion_matrix, f1_score,roc_auc_score\n",
    "import warnings\n",
    "\n",
    "warnings.filterwarnings(\"ignore\")\n",
    "sns.set(style=\"ticks\", context=\"talk\")\n",
    "plt.style.use(\"dark_background\")\n",
    "\n",
    "%matplotlib inline"
   ]
  },
  {
   "cell_type": "code",
   "execution_count": 3,
   "id": "0b77c792-3af1-4f2a-9e6c-11199e587ec9",
   "metadata": {},
   "outputs": [],
   "source": [
    "path = r\"E:/My_Model/Identifying_Age-Related/data/Cleaned_data.csv\""
   ]
  },
  {
   "cell_type": "code",
   "execution_count": 4,
   "id": "10bcce7c-9173-4a3a-9ce9-1d3361d9a678",
   "metadata": {},
   "outputs": [],
   "source": [
    "data = pd.read_csv(path)\n",
    "data.drop(\"Unnamed: 0\",axis=1,inplace=True)"
   ]
  },
  {
   "cell_type": "code",
   "execution_count": 5,
   "id": "3daf190b-01ba-4110-a2b9-d5a8fa9a5291",
   "metadata": {},
   "outputs": [
    {
     "data": {
      "text/html": [
       "<div>\n",
       "<style scoped>\n",
       "    .dataframe tbody tr th:only-of-type {\n",
       "        vertical-align: middle;\n",
       "    }\n",
       "\n",
       "    .dataframe tbody tr th {\n",
       "        vertical-align: top;\n",
       "    }\n",
       "\n",
       "    .dataframe thead th {\n",
       "        text-align: right;\n",
       "    }\n",
       "</style>\n",
       "<table border=\"1\" class=\"dataframe\">\n",
       "  <thead>\n",
       "    <tr style=\"text-align: right;\">\n",
       "      <th></th>\n",
       "      <th>AB</th>\n",
       "      <th>AF</th>\n",
       "      <th>AH</th>\n",
       "      <th>AM</th>\n",
       "      <th>AR</th>\n",
       "      <th>AX</th>\n",
       "      <th>AY</th>\n",
       "      <th>AZ</th>\n",
       "      <th>BC</th>\n",
       "      <th>BD</th>\n",
       "      <th>...</th>\n",
       "      <th>FL</th>\n",
       "      <th>FR</th>\n",
       "      <th>FS</th>\n",
       "      <th>GB</th>\n",
       "      <th>GE</th>\n",
       "      <th>GF</th>\n",
       "      <th>GH</th>\n",
       "      <th>GI</th>\n",
       "      <th>GL</th>\n",
       "      <th>Class</th>\n",
       "    </tr>\n",
       "  </thead>\n",
       "  <tbody>\n",
       "    <tr>\n",
       "      <th>0</th>\n",
       "      <td>0.061475</td>\n",
       "      <td>0.232916</td>\n",
       "      <td>0.00000</td>\n",
       "      <td>0.078158</td>\n",
       "      <td>0.0</td>\n",
       "      <td>0.000000</td>\n",
       "      <td>0.000000</td>\n",
       "      <td>0.278142</td>\n",
       "      <td>0.160705</td>\n",
       "      <td>0.227421</td>\n",
       "      <td>...</td>\n",
       "      <td>0.171862</td>\n",
       "      <td>0.354549</td>\n",
       "      <td>0.011004</td>\n",
       "      <td>0.119559</td>\n",
       "      <td>0.000000</td>\n",
       "      <td>0.018045</td>\n",
       "      <td>0.191389</td>\n",
       "      <td>0.362261</td>\n",
       "      <td>0.005425</td>\n",
       "      <td>1</td>\n",
       "    </tr>\n",
       "    <tr>\n",
       "      <th>1</th>\n",
       "      <td>0.030738</td>\n",
       "      <td>0.062786</td>\n",
       "      <td>0.00000</td>\n",
       "      <td>0.137435</td>\n",
       "      <td>0.0</td>\n",
       "      <td>0.197200</td>\n",
       "      <td>0.000000</td>\n",
       "      <td>0.438798</td>\n",
       "      <td>0.000000</td>\n",
       "      <td>0.355513</td>\n",
       "      <td>...</td>\n",
       "      <td>0.000000</td>\n",
       "      <td>0.000000</td>\n",
       "      <td>0.203576</td>\n",
       "      <td>0.085751</td>\n",
       "      <td>0.000000</td>\n",
       "      <td>0.253512</td>\n",
       "      <td>0.296838</td>\n",
       "      <td>0.164135</td>\n",
       "      <td>1.000000</td>\n",
       "      <td>0</td>\n",
       "    </tr>\n",
       "    <tr>\n",
       "      <th>2</th>\n",
       "      <td>0.186475</td>\n",
       "      <td>0.195066</td>\n",
       "      <td>0.00000</td>\n",
       "      <td>0.118693</td>\n",
       "      <td>0.0</td>\n",
       "      <td>0.405719</td>\n",
       "      <td>0.000000</td>\n",
       "      <td>0.408743</td>\n",
       "      <td>0.000000</td>\n",
       "      <td>0.321755</td>\n",
       "      <td>...</td>\n",
       "      <td>0.181785</td>\n",
       "      <td>0.136652</td>\n",
       "      <td>0.459422</td>\n",
       "      <td>0.544777</td>\n",
       "      <td>0.024356</td>\n",
       "      <td>0.123852</td>\n",
       "      <td>0.280076</td>\n",
       "      <td>0.180218</td>\n",
       "      <td>0.008910</td>\n",
       "      <td>0</td>\n",
       "    </tr>\n",
       "    <tr>\n",
       "      <th>3</th>\n",
       "      <td>0.081967</td>\n",
       "      <td>0.289668</td>\n",
       "      <td>0.11219</td>\n",
       "      <td>0.300705</td>\n",
       "      <td>0.0</td>\n",
       "      <td>0.200775</td>\n",
       "      <td>0.000000</td>\n",
       "      <td>0.331967</td>\n",
       "      <td>0.000000</td>\n",
       "      <td>0.231448</td>\n",
       "      <td>...</td>\n",
       "      <td>0.143495</td>\n",
       "      <td>0.000000</td>\n",
       "      <td>0.088033</td>\n",
       "      <td>0.238350</td>\n",
       "      <td>0.014928</td>\n",
       "      <td>0.018865</td>\n",
       "      <td>0.459749</td>\n",
       "      <td>0.470820</td>\n",
       "      <td>0.007039</td>\n",
       "      <td>0</td>\n",
       "    </tr>\n",
       "    <tr>\n",
       "      <th>4</th>\n",
       "      <td>0.143443</td>\n",
       "      <td>0.282751</td>\n",
       "      <td>0.00000</td>\n",
       "      <td>0.044439</td>\n",
       "      <td>0.0</td>\n",
       "      <td>0.218052</td>\n",
       "      <td>0.118812</td>\n",
       "      <td>0.000000</td>\n",
       "      <td>1.000000</td>\n",
       "      <td>0.377181</td>\n",
       "      <td>...</td>\n",
       "      <td>0.192483</td>\n",
       "      <td>1.000000</td>\n",
       "      <td>0.022008</td>\n",
       "      <td>0.203312</td>\n",
       "      <td>0.111896</td>\n",
       "      <td>0.077148</td>\n",
       "      <td>0.541597</td>\n",
       "      <td>0.185841</td>\n",
       "      <td>0.004345</td>\n",
       "      <td>1</td>\n",
       "    </tr>\n",
       "  </tbody>\n",
       "</table>\n",
       "<p>5 rows × 57 columns</p>\n",
       "</div>"
      ],
      "text/plain": [
       "         AB        AF       AH        AM   AR        AX        AY        AZ  \\\n",
       "0  0.061475  0.232916  0.00000  0.078158  0.0  0.000000  0.000000  0.278142   \n",
       "1  0.030738  0.062786  0.00000  0.137435  0.0  0.197200  0.000000  0.438798   \n",
       "2  0.186475  0.195066  0.00000  0.118693  0.0  0.405719  0.000000  0.408743   \n",
       "3  0.081967  0.289668  0.11219  0.300705  0.0  0.200775  0.000000  0.331967   \n",
       "4  0.143443  0.282751  0.00000  0.044439  0.0  0.218052  0.118812  0.000000   \n",
       "\n",
       "         BC       BD   ...        FL        FR        FS        GB        GE  \\\n",
       "0  0.160705  0.227421  ...  0.171862  0.354549  0.011004  0.119559  0.000000   \n",
       "1  0.000000  0.355513  ...  0.000000  0.000000  0.203576  0.085751  0.000000   \n",
       "2  0.000000  0.321755  ...  0.181785  0.136652  0.459422  0.544777  0.024356   \n",
       "3  0.000000  0.231448  ...  0.143495  0.000000  0.088033  0.238350  0.014928   \n",
       "4  1.000000  0.377181  ...  0.192483  1.000000  0.022008  0.203312  0.111896   \n",
       "\n",
       "         GF        GH        GI        GL  Class  \n",
       "0  0.018045  0.191389  0.362261  0.005425      1  \n",
       "1  0.253512  0.296838  0.164135  1.000000      0  \n",
       "2  0.123852  0.280076  0.180218  0.008910      0  \n",
       "3  0.018865  0.459749  0.470820  0.007039      0  \n",
       "4  0.077148  0.541597  0.185841  0.004345      1  \n",
       "\n",
       "[5 rows x 57 columns]"
      ]
     },
     "execution_count": 5,
     "metadata": {},
     "output_type": "execute_result"
    }
   ],
   "source": [
    "data.head()"
   ]
  },
  {
   "cell_type": "code",
   "execution_count": 6,
   "id": "24a98ed1-f938-4198-9ccc-19055c972b8b",
   "metadata": {},
   "outputs": [
    {
     "name": "stdout",
     "output_type": "stream",
     "text": [
      "<class 'pandas.core.frame.DataFrame'>\n",
      "RangeIndex: 617 entries, 0 to 616\n",
      "Data columns (total 57 columns):\n",
      " #   Column  Non-Null Count  Dtype  \n",
      "---  ------  --------------  -----  \n",
      " 0   AB      617 non-null    float64\n",
      " 1   AF      617 non-null    float64\n",
      " 2   AH      617 non-null    float64\n",
      " 3   AM      617 non-null    float64\n",
      " 4   AR      617 non-null    float64\n",
      " 5   AX      617 non-null    float64\n",
      " 6   AY      617 non-null    float64\n",
      " 7   AZ      617 non-null    float64\n",
      " 8   BC      617 non-null    float64\n",
      " 9   BD      617 non-null    float64\n",
      " 10  BN      617 non-null    float64\n",
      " 11  BP      617 non-null    float64\n",
      " 12  BQ      617 non-null    float64\n",
      " 13  BR      617 non-null    float64\n",
      " 14  BZ      617 non-null    float64\n",
      " 15  CB      617 non-null    float64\n",
      " 16  CC      617 non-null    float64\n",
      " 17  CD      617 non-null    float64\n",
      " 18  CF      617 non-null    float64\n",
      " 19  CH      617 non-null    float64\n",
      " 20  CL      617 non-null    float64\n",
      " 21  CR      617 non-null    float64\n",
      " 22  CS      617 non-null    float64\n",
      " 23  CU      617 non-null    float64\n",
      " 24  CW      617 non-null    float64\n",
      " 25  DA      617 non-null    float64\n",
      " 26  DE      617 non-null    float64\n",
      " 27  DF      617 non-null    float64\n",
      " 28  DH      617 non-null    float64\n",
      " 29  DI      617 non-null    float64\n",
      " 30  DL      617 non-null    float64\n",
      " 31  DN      617 non-null    float64\n",
      " 32  DU      617 non-null    float64\n",
      " 33  DV      617 non-null    float64\n",
      " 34  DY      617 non-null    float64\n",
      " 35  EB      617 non-null    float64\n",
      " 36  EE      617 non-null    float64\n",
      " 37  EG      617 non-null    float64\n",
      " 38  EH      617 non-null    float64\n",
      " 39  EJ      617 non-null    float64\n",
      " 40  EL      617 non-null    float64\n",
      " 41  EP      617 non-null    float64\n",
      " 42  EU      617 non-null    float64\n",
      " 43  FC      617 non-null    float64\n",
      " 44  FD      617 non-null    float64\n",
      " 45  FE      617 non-null    float64\n",
      " 46  FI      617 non-null    float64\n",
      " 47  FL      617 non-null    float64\n",
      " 48  FR      617 non-null    float64\n",
      " 49  FS      617 non-null    float64\n",
      " 50  GB      617 non-null    float64\n",
      " 51  GE      617 non-null    float64\n",
      " 52  GF      617 non-null    float64\n",
      " 53  GH      617 non-null    float64\n",
      " 54  GI      617 non-null    float64\n",
      " 55  GL      617 non-null    float64\n",
      " 56  Class   617 non-null    int64  \n",
      "dtypes: float64(56), int64(1)\n",
      "memory usage: 274.9 KB\n"
     ]
    }
   ],
   "source": [
    "data.info()"
   ]
  },
  {
   "cell_type": "markdown",
   "id": "a46303cb-d458-42e2-9804-a74e7be9b2d4",
   "metadata": {},
   "source": [
    "## 10. MODEL TRAINING AND EVALUATING"
   ]
  },
  {
   "cell_type": "code",
   "execution_count": 7,
   "id": "ff80fa27-c6a3-4aca-9288-4371b57c629f",
   "metadata": {},
   "outputs": [],
   "source": [
    "X = data.drop(\"Class\", axis=1)\n",
    "y = data[\"Class\"]"
   ]
  },
  {
   "cell_type": "code",
   "execution_count": 8,
   "id": "d12dae45-f2e9-42b1-beb0-c1296178379c",
   "metadata": {},
   "outputs": [
    {
     "data": {
      "text/plain": [
       "Class\n",
       "1    509\n",
       "0    509\n",
       "Name: count, dtype: int64"
      ]
     },
     "execution_count": 8,
     "metadata": {},
     "output_type": "execute_result"
    }
   ],
   "source": [
    "from imblearn.over_sampling import SMOTE\n",
    "\n",
    "smote = SMOTE(sampling_strategy='minority')\n",
    "X_sm, Y_sm = smote.fit_resample(X, y)\n",
    "\n",
    "Y_sm.value_counts()"
   ]
  },
  {
   "cell_type": "code",
   "execution_count": 9,
   "id": "db62b426-36c9-43f0-afe9-50dd18a15e08",
   "metadata": {},
   "outputs": [
    {
     "name": "stdout",
     "output_type": "stream",
     "text": [
      "(712, 56)\n",
      "(306, 56)\n",
      "(712,)\n",
      "(306,)\n"
     ]
    }
   ],
   "source": [
    "X_train, X_test, y_train, y_test = train_test_split(X_sm, Y_sm, test_size=0.3, random_state=42)\n",
    "print(X_train.shape)\n",
    "print(X_test.shape)\n",
    "print(y_train.shape)\n",
    "print(y_test.shape)"
   ]
  },
  {
   "cell_type": "code",
   "execution_count": 10,
   "id": "8bf8758b-8f12-4a3e-a973-073bcbe78150",
   "metadata": {},
   "outputs": [
    {
     "name": "stdout",
     "output_type": "stream",
     "text": [
      "Classifier: Logistic Regression\n",
      "Average Accuracy: 0.9115\n",
      "Average Precision: 0.9136\n",
      "Average Recall: 0.9114\n",
      "-----------------------\n",
      "Classifier: Decision Tree Classifier\n",
      "Average Accuracy: 0.8835\n",
      "Average Precision: 0.8930\n",
      "Average Recall: 0.9002\n",
      "-----------------------\n",
      "Classifier: Adaboost Classifier\n",
      "Average Accuracy: 0.9185\n",
      "Average Precision: 0.9192\n",
      "Average Recall: 0.9185\n",
      "-----------------------\n",
      "Classifier: Random Forest Classifier\n",
      "Average Accuracy: 0.9550\n",
      "Average Precision: 0.9586\n",
      "Average Recall: 0.9593\n",
      "-----------------------\n",
      "Classifier: KNN Classifier\n",
      "Average Accuracy: 0.8905\n",
      "Average Precision: 0.9057\n",
      "Average Recall: 0.8905\n",
      "-----------------------\n",
      "Classifier: Gaussion NB Classifier\n",
      "Average Accuracy: 0.8245\n",
      "Average Precision: 0.8270\n",
      "Average Recall: 0.8245\n",
      "-----------------------\n",
      "Classifier: XGB Classifier\n",
      "Average Accuracy: 0.9480\n",
      "Average Precision: 0.9496\n",
      "Average Recall: 0.9480\n",
      "-----------------------\n"
     ]
    }
   ],
   "source": [
    "# List of classifiers to test\n",
    "classifiers = [\n",
    "    ('Logistic Regression', LogisticRegression()),\n",
    "    ('Decision Tree Classifier', DecisionTreeClassifier()),\n",
    "    ('Adaboost Classifier', AdaBoostClassifier()),\n",
    "    ('Random Forest Classifier', RandomForestClassifier()),\n",
    "    ('KNN Classifier', KNeighborsClassifier(n_neighbors=5)),\n",
    "    ('Gaussion NB Classifier',GaussianNB()),\n",
    "    ('XGB Classifier', XGBClassifier())\n",
    "]\n",
    "\n",
    "# iterating over classifiers\n",
    "for clf, clf_algo in classifiers:\n",
    "    \n",
    "    # applying k-fold cross validation score\n",
    "    scores = cross_val_score(estimator=clf_algo, X=X_train, y = y_train, cv=5, scoring='accuracy')\n",
    "    \n",
    "    # calculating average performance of the metrics\n",
    "    avg_score = scores.mean()\n",
    "    \n",
    "    # calculating average precision of classifiers\n",
    "    avg_precision = cross_val_score(estimator=clf_algo, X=X_train, y = y_train, cv=5, scoring='precision_macro').mean()\n",
    "    \n",
    "    # calculating average recall of classifiers\n",
    "    avg_recall = cross_val_score(estimator=clf_algo, X=X_train, y = y_train, cv=5, scoring='recall_macro').mean()\n",
    "     \n",
    "    # Print the performance metrics\n",
    "    print(f'Classifier: {clf}')\n",
    "    print(f'Average Accuracy: {avg_score:.4f}')\n",
    "    print(f'Average Precision: {avg_precision:.4f}')\n",
    "    print(f'Average Recall: {avg_recall:.4f}')\n",
    "    print('-----------------------')"
   ]
  },
  {
   "cell_type": "code",
   "execution_count": 11,
   "id": "c2423317-85be-4a11-902c-99f8367c9ce7",
   "metadata": {},
   "outputs": [
    {
     "data": {
      "text/html": [
       "<style type=\"text/css\">\n",
       "#T_00785_row0_col1, #T_00785_row0_col2, #T_00785_row0_col3, #T_00785_row0_col4, #T_00785_row0_col5, #T_00785_row0_col6, #T_00785_row1_col6, #T_00785_row5_col6 {\n",
       "  background-color: #5e4fa2;\n",
       "  color: #f1f1f1;\n",
       "}\n",
       "#T_00785_row1_col1, #T_00785_row1_col3 {\n",
       "  background-color: #4b68ae;\n",
       "  color: #f1f1f1;\n",
       "}\n",
       "#T_00785_row1_col2 {\n",
       "  background-color: #4d65ad;\n",
       "  color: #f1f1f1;\n",
       "}\n",
       "#T_00785_row1_col4 {\n",
       "  background-color: #3f77b5;\n",
       "  color: #f1f1f1;\n",
       "}\n",
       "#T_00785_row1_col5 {\n",
       "  background-color: #3387bc;\n",
       "  color: #f1f1f1;\n",
       "}\n",
       "#T_00785_row2_col1, #T_00785_row2_col3 {\n",
       "  background-color: #69c3a5;\n",
       "  color: #000000;\n",
       "}\n",
       "#T_00785_row2_col2 {\n",
       "  background-color: #60bba8;\n",
       "  color: #000000;\n",
       "}\n",
       "#T_00785_row2_col4 {\n",
       "  background-color: #97d5a4;\n",
       "  color: #000000;\n",
       "}\n",
       "#T_00785_row2_col5 {\n",
       "  background-color: #aadca4;\n",
       "  color: #000000;\n",
       "}\n",
       "#T_00785_row2_col6 {\n",
       "  background-color: #3585bb;\n",
       "  color: #f1f1f1;\n",
       "}\n",
       "#T_00785_row3_col1, #T_00785_row3_col3 {\n",
       "  background-color: #b5e1a2;\n",
       "  color: #000000;\n",
       "}\n",
       "#T_00785_row3_col2 {\n",
       "  background-color: #b1dfa3;\n",
       "  color: #000000;\n",
       "}\n",
       "#T_00785_row3_col4 {\n",
       "  background-color: #b8e2a1;\n",
       "  color: #000000;\n",
       "}\n",
       "#T_00785_row3_col5 {\n",
       "  background-color: #5cb7aa;\n",
       "  color: #f1f1f1;\n",
       "}\n",
       "#T_00785_row3_col6 {\n",
       "  background-color: #caea9e;\n",
       "  color: #000000;\n",
       "}\n",
       "#T_00785_row4_col1, #T_00785_row4_col3, #T_00785_row4_col5 {\n",
       "  background-color: #fafdb7;\n",
       "  color: #000000;\n",
       "}\n",
       "#T_00785_row4_col2 {\n",
       "  background-color: #f3faac;\n",
       "  color: #000000;\n",
       "}\n",
       "#T_00785_row4_col4 {\n",
       "  background-color: #fee18d;\n",
       "  color: #000000;\n",
       "}\n",
       "#T_00785_row4_col6 {\n",
       "  background-color: #dff299;\n",
       "  color: #000000;\n",
       "}\n",
       "#T_00785_row5_col1, #T_00785_row5_col3 {\n",
       "  background-color: #fff8b4;\n",
       "  color: #000000;\n",
       "}\n",
       "#T_00785_row5_col2 {\n",
       "  background-color: #f2faaa;\n",
       "  color: #000000;\n",
       "}\n",
       "#T_00785_row5_col4 {\n",
       "  background-color: #f9fcb5;\n",
       "  color: #000000;\n",
       "}\n",
       "#T_00785_row5_col5, #T_00785_row6_col1, #T_00785_row6_col2, #T_00785_row6_col3, #T_00785_row6_col4, #T_00785_row6_col6 {\n",
       "  background-color: #9e0142;\n",
       "  color: #f1f1f1;\n",
       "}\n",
       "#T_00785_row6_col5 {\n",
       "  background-color: #f46d43;\n",
       "  color: #f1f1f1;\n",
       "}\n",
       "</style>\n",
       "<table id=\"T_00785\">\n",
       "  <thead>\n",
       "    <tr>\n",
       "      <th class=\"blank level0\" >&nbsp;</th>\n",
       "      <th id=\"T_00785_level0_col0\" class=\"col_heading level0 col0\" >Model</th>\n",
       "      <th id=\"T_00785_level0_col1\" class=\"col_heading level0 col1\" >Accuracy Score</th>\n",
       "      <th id=\"T_00785_level0_col2\" class=\"col_heading level0 col2\" >F1 Score</th>\n",
       "      <th id=\"T_00785_level0_col3\" class=\"col_heading level0 col3\" >ROC AUC Score</th>\n",
       "      <th id=\"T_00785_level0_col4\" class=\"col_heading level0 col4\" >average Cross Val Score</th>\n",
       "      <th id=\"T_00785_level0_col5\" class=\"col_heading level0 col5\" >precision_score</th>\n",
       "      <th id=\"T_00785_level0_col6\" class=\"col_heading level0 col6\" >recall_score</th>\n",
       "    </tr>\n",
       "  </thead>\n",
       "  <tbody>\n",
       "    <tr>\n",
       "      <th id=\"T_00785_level0_row0\" class=\"row_heading level0 row0\" >3</th>\n",
       "      <td id=\"T_00785_row0_col0\" class=\"data row0 col0\" >Random Forest Classifier</td>\n",
       "      <td id=\"T_00785_row0_col1\" class=\"data row0 col1\" >0.980392</td>\n",
       "      <td id=\"T_00785_row0_col2\" class=\"data row0 col2\" >0.980769</td>\n",
       "      <td id=\"T_00785_row0_col3\" class=\"data row0 col3\" >0.980392</td>\n",
       "      <td id=\"T_00785_row0_col4\" class=\"data row0 col4\" >0.963439</td>\n",
       "      <td id=\"T_00785_row0_col5\" class=\"data row0 col5\" >0.962264</td>\n",
       "      <td id=\"T_00785_row0_col6\" class=\"data row0 col6\" >1.000000</td>\n",
       "    </tr>\n",
       "    <tr>\n",
       "      <th id=\"T_00785_level0_row1\" class=\"row_heading level0 row1\" >6</th>\n",
       "      <td id=\"T_00785_row1_col0\" class=\"data row1 col0\" >XGB Classifier</td>\n",
       "      <td id=\"T_00785_row1_col1\" class=\"data row1 col1\" >0.973856</td>\n",
       "      <td id=\"T_00785_row1_col2\" class=\"data row1 col2\" >0.974522</td>\n",
       "      <td id=\"T_00785_row1_col3\" class=\"data row1 col3\" >0.973856</td>\n",
       "      <td id=\"T_00785_row1_col4\" class=\"data row1 col4\" >0.953619</td>\n",
       "      <td id=\"T_00785_row1_col5\" class=\"data row1 col5\" >0.950311</td>\n",
       "      <td id=\"T_00785_row1_col6\" class=\"data row1 col6\" >1.000000</td>\n",
       "    </tr>\n",
       "    <tr>\n",
       "      <th id=\"T_00785_level0_row2\" class=\"row_heading level0 row2\" >2</th>\n",
       "      <td id=\"T_00785_row2_col0\" class=\"data row2 col0\" >Adaboost Classifier</td>\n",
       "      <td id=\"T_00785_row2_col1\" class=\"data row2 col1\" >0.950980</td>\n",
       "      <td id=\"T_00785_row2_col2\" class=\"data row2 col2\" >0.952381</td>\n",
       "      <td id=\"T_00785_row2_col3\" class=\"data row2 col3\" >0.950980</td>\n",
       "      <td id=\"T_00785_row2_col4\" class=\"data row2 col4\" >0.925606</td>\n",
       "      <td id=\"T_00785_row2_col5\" class=\"data row2 col5\" >0.925926</td>\n",
       "      <td id=\"T_00785_row2_col6\" class=\"data row2 col6\" >0.980392</td>\n",
       "    </tr>\n",
       "    <tr>\n",
       "      <th id=\"T_00785_level0_row3\" class=\"row_heading level0 row3\" >0</th>\n",
       "      <td id=\"T_00785_row3_col0\" class=\"data row3 col0\" >Logistic Regression</td>\n",
       "      <td id=\"T_00785_row3_col1\" class=\"data row3 col1\" >0.934641</td>\n",
       "      <td id=\"T_00785_row3_col2\" class=\"data row3 col2\" >0.934211</td>\n",
       "      <td id=\"T_00785_row3_col3\" class=\"data row3 col3\" >0.934641</td>\n",
       "      <td id=\"T_00785_row3_col4\" class=\"data row3 col4\" >0.918447</td>\n",
       "      <td id=\"T_00785_row3_col5\" class=\"data row3 col5\" >0.940397</td>\n",
       "      <td id=\"T_00785_row3_col6\" class=\"data row3 col6\" >0.928105</td>\n",
       "    </tr>\n",
       "    <tr>\n",
       "      <th id=\"T_00785_level0_row4\" class=\"row_heading level0 row4\" >1</th>\n",
       "      <td id=\"T_00785_row4_col0\" class=\"data row4 col0\" >Decision Tree Classifier</td>\n",
       "      <td id=\"T_00785_row4_col1\" class=\"data row4 col1\" >0.911765</td>\n",
       "      <td id=\"T_00785_row4_col2\" class=\"data row4 col2\" >0.912621</td>\n",
       "      <td id=\"T_00785_row4_col3\" class=\"data row4 col3\" >0.911765</td>\n",
       "      <td id=\"T_00785_row4_col4\" class=\"data row4 col4\" >0.880614</td>\n",
       "      <td id=\"T_00785_row4_col5\" class=\"data row4 col5\" >0.903846</td>\n",
       "      <td id=\"T_00785_row4_col6\" class=\"data row4 col6\" >0.921569</td>\n",
       "    </tr>\n",
       "    <tr>\n",
       "      <th id=\"T_00785_level0_row5\" class=\"row_heading level0 row5\" >4</th>\n",
       "      <td id=\"T_00785_row5_col0\" class=\"data row5 col0\" >KNN Classifier</td>\n",
       "      <td id=\"T_00785_row5_col1\" class=\"data row5 col1\" >0.905229</td>\n",
       "      <td id=\"T_00785_row5_col2\" class=\"data row5 col2\" >0.913433</td>\n",
       "      <td id=\"T_00785_row5_col3\" class=\"data row5 col3\" >0.905229</td>\n",
       "      <td id=\"T_00785_row5_col4\" class=\"data row5 col4\" >0.897437</td>\n",
       "      <td id=\"T_00785_row5_col5\" class=\"data row5 col5\" >0.840659</td>\n",
       "      <td id=\"T_00785_row5_col6\" class=\"data row5 col6\" >1.000000</td>\n",
       "    </tr>\n",
       "    <tr>\n",
       "      <th id=\"T_00785_level0_row6\" class=\"row_heading level0 row6\" >5</th>\n",
       "      <td id=\"T_00785_row6_col0\" class=\"data row6 col0\" >Gaussion NB Classifier</td>\n",
       "      <td id=\"T_00785_row6_col1\" class=\"data row6 col1\" >0.836601</td>\n",
       "      <td id=\"T_00785_row6_col2\" class=\"data row6 col2\" >0.829932</td>\n",
       "      <td id=\"T_00785_row6_col3\" class=\"data row6 col3\" >0.836601</td>\n",
       "      <td id=\"T_00785_row6_col4\" class=\"data row6 col4\" >0.824374</td>\n",
       "      <td id=\"T_00785_row6_col5\" class=\"data row6 col5\" >0.865248</td>\n",
       "      <td id=\"T_00785_row6_col6\" class=\"data row6 col6\" >0.797386</td>\n",
       "    </tr>\n",
       "  </tbody>\n",
       "</table>\n"
      ],
      "text/plain": [
       "<pandas.io.formats.style.Styler at 0x24640b64750>"
      ]
     },
     "execution_count": 11,
     "metadata": {},
     "output_type": "execute_result"
    }
   ],
   "source": [
    "# BASE MODEL:\n",
    "\n",
    "def accuracy_df(X,y):\n",
    "    X_train, X_test, y_train, y_test = train_test_split(X, y, test_size=0.3, random_state=42)\n",
    "    classifiers = [\n",
    "    ('Logistic Regression', LogisticRegression()),\n",
    "    ('Decision Tree Classifier', DecisionTreeClassifier()),\n",
    "    ('Adaboost Classifier', AdaBoostClassifier()),\n",
    "    ('Random Forest Classifier', RandomForestClassifier()),\n",
    "    ('KNN Classifier', KNeighborsClassifier(n_neighbors=5)),\n",
    "    ('Gaussion NB Classifier',GaussianNB()),\n",
    "    ('XGB Classifier', XGBClassifier())\n",
    "    ]\n",
    "    \n",
    "\n",
    "    results = pd.DataFrame(columns=[\"Model\",\"Accuracy Score\",\"F1 Score\",\"ROC AUC Score\",\n",
    "                              \"average Cross Val Score\",\"precision_score\",\"recall_score\"])\n",
    "    for model_name, model  in classifiers:\n",
    "        model.fit(X_train,y_train)\n",
    "        y_pred=model.predict(X_test)\n",
    "        acc=accuracy_score(y_test,y_pred)\n",
    "        f1=f1_score(y_test,y_pred)\n",
    "        roc=roc_auc_score(y_test,y_pred)\n",
    "        average_cv=cv=cross_val_score(model,X_train,y_train,cv=10).mean()\n",
    "        ps=precision_score(y_test,y_pred)\n",
    "        rs=recall_score(y_test,y_pred)\n",
    "    \n",
    "        results = results._append({\"Model\": model_name,\n",
    "                            \"Accuracy Score\":acc,\n",
    "                            \"F1 Score\":f1,\n",
    "                            \"ROC AUC Score\":roc,\n",
    "                            \"average Cross Val Score\":average_cv,\n",
    "                            \"precision_score\":ps,\n",
    "                            \"recall_score\":rs},ignore_index=True)\n",
    "    \n",
    "\n",
    "    results=results.sort_values(by=\"Accuracy Score\",ascending=False)\n",
    "    results=results.style.background_gradient(cmap=\"Spectral\")\n",
    "    \n",
    "    return results\n",
    "\n",
    "all_results = accuracy_df(X_sm, Y_sm)\n",
    "all_results"
   ]
  },
  {
   "cell_type": "markdown",
   "id": "c8418ae9-80ee-4a22-ab16-028050633f0b",
   "metadata": {},
   "source": [
    "## 13. MODEL TUNING"
   ]
  },
  {
   "cell_type": "code",
   "execution_count": 12,
   "id": "f87a81fb-db96-4da0-a148-ddc37b890a07",
   "metadata": {},
   "outputs": [
    {
     "name": "stdout",
     "output_type": "stream",
     "text": [
      "Model tuning is starting...\n",
      "Model count:  3\n",
      "CV:  10\n",
      "Scoring:  accuracy\n",
      "Model list:  ['RF', 'XGB', 'ADA']\n",
      "--------------------------------------------------\n",
      "Model: RF is tuning...\n",
      "accuracy (Before): 0.9706\n",
      "accuracy (After): 0.9686\n",
      "RF best params: {'max_depth': 10, 'max_features': 8, 'n_estimators': 500}\n",
      "\n",
      "Model: XGB is tuning...\n",
      "accuracy (Before): 0.9666\n",
      "accuracy (After): 0.9735\n",
      "XGB best params: {'learning_rate': 0.1, 'max_depth': 3, 'n_estimators': 500}\n",
      "\n",
      "Model: ADA is tuning...\n",
      "accuracy (Before): 0.9411\n",
      "accuracy (After): 0.9617\n",
      "ADA best params: {'learning_rate': 1.0, 'n_estimators': 1000}\n",
      "\n"
     ]
    }
   ],
   "source": [
    "# hypermetre tuning:\n",
    "\n",
    "rf_params={'max_depth': [2, 5, 8, 10],\n",
    "              'max_features': [2, 5, 8],\n",
    "                'n_estimators': [10, 500, 1000]}\n",
    "\n",
    "xgb_params={'learning_rate': [0.1, 0.01, 0.001],\n",
    "                'max_depth': [3, 5, 8, 10],\n",
    "                'n_estimators': [10, 500, 1000]}\n",
    "\n",
    "ada_params = {\"n_estimators\": [10, 100, 500, 1000],\n",
    "                \"learning_rate\": [0.01, 0.1, 1.0, 10.0]}\n",
    "\n",
    "# list of tuple containing models and their names:\n",
    "\n",
    "models=[('RF', RandomForestClassifier(), rf_params),\n",
    "        ('XGB', XGBClassifier(), xgb_params),\n",
    "        ('ADA', AdaBoostClassifier(), ada_params)]\n",
    "\n",
    "def model_tuning(X , y, cv=10, scoring=\"accuracy\"):\n",
    "    print(\"Model tuning is starting...\")\n",
    "    print(\"Model count: \", len(models))\n",
    "    print(\"CV: \", cv)\n",
    "    print(\"Scoring: \", scoring)\n",
    "    print(\"Model list: \", [i[0] for i in models])\n",
    "    print(\"--------------------------------------------------\")\n",
    "    \n",
    "    best_models={}\n",
    "    \n",
    "    for name, model, params in models:\n",
    "        print(f\"Model: {name} is tuning...\")\n",
    "        cv_results=cross_validate(model, X, y, cv=cv, scoring=scoring, return_train_score=True)\n",
    "        print(f\"{scoring} (Before): {round(cv_results['test_score'].mean(),4)}\")\n",
    "        \n",
    "        gs_best=GridSearchCV(model, params, cv=cv, n_jobs=-1, verbose=False).fit(X,y)\n",
    "        final_model=model.set_params(**gs_best.best_params_)\n",
    "        \n",
    "        cv_results=cross_validate(final_model, X, y, cv=cv, scoring=scoring, return_train_score=True)\n",
    "        print(f\"{scoring} (After): {round(cv_results['test_score'].mean(),4)}\")\n",
    "        print(f\"{name} best params: {gs_best.best_params_}\", end=\"\\n\\n\")\n",
    "        best_models[name]=final_model\n",
    "    return best_models\n",
    "\n",
    "best_models=model_tuning(X_sm,Y_sm)"
   ]
  },
  {
   "cell_type": "markdown",
   "id": "d9f9d980-aa29-43b7-a68f-986896dcf0cf",
   "metadata": {},
   "source": [
    "## final model"
   ]
  },
  {
   "cell_type": "code",
   "execution_count": 16,
   "id": "db8ae1b4-c89c-4a8d-9814-393d349a73a8",
   "metadata": {},
   "outputs": [
    {
     "data": {
      "text/plain": [
       "1.0"
      ]
     },
     "execution_count": 16,
     "metadata": {},
     "output_type": "execute_result"
    }
   ],
   "source": [
    "Rm_model = RandomForestClassifier(max_depth = 10, max_features = 8, n_estimators = 500).fit(X_train, y_train)\n",
    "predict_y = Rm_model.predict(X_train)\n",
    "Rm_model.score(X_train, y_train)"
   ]
  },
  {
   "cell_type": "code",
   "execution_count": 17,
   "id": "308231ca-5ded-42ae-95f8-78d6d3843112",
   "metadata": {},
   "outputs": [
    {
     "data": {
      "text/plain": [
       "0.9771241830065359"
      ]
     },
     "execution_count": 17,
     "metadata": {},
     "output_type": "execute_result"
    }
   ],
   "source": [
    "predict_test_y = Rm_model.predict(X_test)\n",
    "Rm_model.score(X_test, y_test)"
   ]
  },
  {
   "cell_type": "code",
   "execution_count": 18,
   "id": "34c03a72-f196-4a0a-813d-66aa32d6f53e",
   "metadata": {},
   "outputs": [],
   "source": [
    "# Method to evaluate the performance of the model\n",
    "def evaluate_model(y_act,y_pred):\n",
    "    print(\"Classification Report\\n\")\n",
    "    print(classification_report(y_act,y_pred))\n",
    "    \n",
    "    print(\"\\n---------------------------------------------\\n\")\n",
    "    # Compute confusion matrix\n",
    "    cm = confusion_matrix(y_act,y_pred)\n",
    "\n",
    "    # Create a heatmap of the confusion matrix using Seaborn\n",
    "    sns.heatmap(cm, annot=True,fmt='.0f')\n",
    "\n",
    "    plt.xlabel('Predicted Labels')\n",
    "    plt.ylabel('True Labels')\n",
    "    plt.title('Confusion Matrix')\n",
    "\n",
    "    plt.show()"
   ]
  },
  {
   "cell_type": "code",
   "execution_count": 19,
   "id": "b87c1917-ca7b-4900-8e09-634a21e4e42e",
   "metadata": {},
   "outputs": [
    {
     "name": "stdout",
     "output_type": "stream",
     "text": [
      "Classification Report\n",
      "\n",
      "              precision    recall  f1-score   support\n",
      "\n",
      "           0       1.00      0.95      0.98       153\n",
      "           1       0.96      1.00      0.98       153\n",
      "\n",
      "    accuracy                           0.98       306\n",
      "   macro avg       0.98      0.98      0.98       306\n",
      "weighted avg       0.98      0.98      0.98       306\n",
      "\n",
      "\n",
      "---------------------------------------------\n",
      "\n"
     ]
    },
    {
     "data": {
      "image/png": "[encoded data removed]",
      "text/plain": [
       "<Figure size 640x480 with 2 Axes>"
      ]
     },
     "metadata": {},
     "output_type": "display_data"
    }
   ],
   "source": [
    "# Evaluating the model\n",
    "evaluate_model(y_test, predict_test_y)"
   ]
  },
  {
   "cell_type": "code",
   "execution_count": 20,
   "id": "2efb248d-b334-4638-8ce6-33d38bc63949",
   "metadata": {},
   "outputs": [
    {
     "name": "stdout",
     "output_type": "stream",
     "text": [
      "Classification Report\n",
      "\n",
      "              precision    recall  f1-score   support\n",
      "\n",
      "           0       1.00      1.00      1.00       356\n",
      "           1       1.00      1.00      1.00       356\n",
      "\n",
      "    accuracy                           1.00       712\n",
      "   macro avg       1.00      1.00      1.00       712\n",
      "weighted avg       1.00      1.00      1.00       712\n",
      "\n",
      "\n",
      "---------------------------------------------\n",
      "\n"
     ]
    },
    {
     "data": {
      "image/png": "[encoded data removed]",
      "text/plain": [
       "<Figure size 640x480 with 2 Axes>"
      ]
     },
     "metadata": {},
     "output_type": "display_data"
    }
   ],
   "source": [
    "# Evaluating the model\n",
    "evaluate_model(y_train, predict_y)"
   ]
  },
  {
   "cell_type": "markdown",
   "id": "0e1b6dec-b57b-4247-82ac-369ee54fb307",
   "metadata": {},
   "source": [
    "## 11. FEATURE IMPORTANCE"
   ]
  },
  {
   "cell_type": "code",
   "execution_count": 21,
   "id": "071a61ad-7e5a-4a74-828b-9662c6559bae",
   "metadata": {
    "scrolled": true
   },
   "outputs": [
    {
     "data": {
      "text/plain": [
       "<AxesSubplot: >"
      ]
     },
     "execution_count": 21,
     "metadata": {},
     "output_type": "execute_result"
    },
    {
     "data": {
      "image/png": "[encoded data removed]",
      "text/plain": [
       "<Figure size 1000x600 with 1 Axes>"
      ]
     },
     "metadata": {},
     "output_type": "display_data"
    }
   ],
   "source": [
    "feature_imp = Rm_model.feature_importances_\n",
    "feature_df = pd.DataFrame(data=feature_imp, index=data.columns[:-1], columns=[\"Feature Importance\"])\n",
    "\n",
    "feature_df.sort_values(by='Feature Importance',ascending=False).plot(kind=\"bar\",figsize=(10,6), fontsize=(9))"
   ]
  },
  {
   "cell_type": "markdown",
   "id": "16208ebf-931d-4c67-bf80-898ffd096ce4",
   "metadata": {},
   "source": [
    "## 12 AUC-ROC"
   ]
  },
  {
   "cell_type": "code",
   "execution_count": 22,
   "id": "c0290389-ebf1-49eb-8e94-bb47ab8e0016",
   "metadata": {},
   "outputs": [
    {
     "data": {
      "image/png": "[encoded data removed]",
      "text/plain": [
       "<Figure size 800x600 with 1 Axes>"
      ]
     },
     "metadata": {},
     "output_type": "display_data"
    }
   ],
   "source": [
    "# AUC_ROC Curve:\n",
    "def AUC_ROC(model, y_act, x_act, figure_size=((8, 6))):\n",
    "    y_prob = Rm_model.predict_proba(x_act)[:,1]\n",
    "    fpr, tpr, thresholds = roc_curve(y_act, y_prob)\n",
    "    plt.figure(figsize = figure_size)\n",
    "    plt.plot(fpr, tpr, label = \"AUC = %0.2f\" % roc_auc_score(y_act, y_prob))\n",
    "    plt.plot([0, 1], [0, 1],'r--')\n",
    "    plt.legend(loc = 'lower right')\n",
    "    plt.title(\"ROC Curve of \"+Rm_model.__class__.__name__, size = 15)\n",
    "    plt.xlabel(\"False Positive Rate\")\n",
    "    plt.ylabel(\"True Positive Rate\")\n",
    "    plt.show()\n",
    "\n",
    "AUC_ROC(Rm_model, x_act = X_test, y_act = y_test)"
   ]
  },
  {
   "cell_type": "code",
   "execution_count": 23,
   "id": "df1e68ec-7b36-4a5e-bfb8-b55b3d48c60d",
   "metadata": {},
   "outputs": [
    {
     "data": {
      "image/png": "[encoded data removed]",
      "text/plain": [
       "<Figure size 800x600 with 1 Axes>"
      ]
     },
     "metadata": {},
     "output_type": "display_data"
    }
   ],
   "source": [
    "AUC_ROC(Rm_model, x_act=X_train, y_act=y_train)"
   ]
  },
  {
   "cell_type": "markdown",
   "id": "aa203c95-d3c1-4e3c-8eb8-1caa7f204173",
   "metadata": {},
   "source": [
    "## Data preparation for test "
   ]
  },
  {
   "cell_type": "code",
   "execution_count": 24,
   "id": "d82592a0-e61c-482a-9042-4bbdcaede3d3",
   "metadata": {},
   "outputs": [],
   "source": [
    "# testing on the test set\n",
    "\n",
    "path = r\"E:/My_Model/Identifying_Age-Related/data/test.csv\"\n",
    "\n",
    "df = pd.read_csv(path)\n",
    "data = df.copy()\n",
    "\n",
    "# prepare the data\n",
    "def prepare_data(data):\n",
    "    \n",
    "    # data = data.drop([\"Id\"],axis=1)\n",
    "    # separate the categorical and numeric columns\n",
    "    cat_cols = [col  for col in data.columns if data[col].dtype == \"O\"]\n",
    "    num_cols = [col for col in data.columns if data[col].dtype != \"O\"]\n",
    "\n",
    "    # detect the outliers\n",
    "    a1 = 0.05\n",
    "    a3 = 0.95\n",
    "    for col in num_cols:\n",
    "        q1=data[col].quantile(a1)\n",
    "        q3=data[col].quantile(a3)\n",
    "        \n",
    "        IQR=q3-q1\n",
    "        \n",
    "        up_limit = q3 + 1.5 * IQR\n",
    "        low_limit = q1 - 1.5 * IQR\n",
    "\n",
    "        # capping the outliers\n",
    "        data[col] = np.where(data[col] > up_limit, up_limit, data[col])\n",
    "        data[col] = np.where(data[col] < low_limit, low_limit, data[col])\n",
    "\n",
    "    # return data\n",
    "    \n",
    "    for col in data.columns:\n",
    "        if data[col].dtype == 'object' and col !=\"Id\":\n",
    "            if data[col].nunique() <= 2:\n",
    "                le = LabelEncoder()\n",
    "                data[col] = le.fit_transform(data[col])\n",
    "            elif data[col].nunique() > 2  and data[col].nunique() <= 10:\n",
    "                ohe = OneHotEncoder()\n",
    "                ohe_df = pd.DataFrame(ohe.fit_transform(data[[col]]).toarray())\n",
    "                ohe_df.columns = [col + \"_\" + str(i) for i in ohe_df.columns]\n",
    "                data = data.join(ohe_df)\n",
    "                data = data.drop(col, axis=1)\n",
    "    \n",
    "        \n",
    "    Mm_sclr = MinMaxScaler()\n",
    "    for col in data.columns:\n",
    "        if col !=\"Id\":\n",
    "            data[col]=Mm_sclr.fit_transform(data[[col]])\n",
    "            \n",
    "    return data"
   ]
  },
  {
   "cell_type": "code",
   "execution_count": 25,
   "id": "3eba5c37-8c98-4c3b-aa46-f1e55915cfa6",
   "metadata": {},
   "outputs": [],
   "source": [
    "preprocesed_data = prepare_data(df)"
   ]
  },
  {
   "cell_type": "code",
   "execution_count": null,
   "id": "c8a712be-84c2-4bc1-afb7-497989ecfb00",
   "metadata": {},
   "outputs": [],
   "source": []
  },
  {
   "cell_type": "code",
   "execution_count": 26,
   "id": "fca092e2-d5b5-40d7-bfdd-762f14c31496",
   "metadata": {},
   "outputs": [
    {
     "data": {
      "text/html": [
       "<div>\n",
       "<style scoped>\n",
       "    .dataframe tbody tr th:only-of-type {\n",
       "        vertical-align: middle;\n",
       "    }\n",
       "\n",
       "    .dataframe tbody tr th {\n",
       "        vertical-align: top;\n",
       "    }\n",
       "\n",
       "    .dataframe thead th {\n",
       "        text-align: right;\n",
       "    }\n",
       "</style>\n",
       "<table border=\"1\" class=\"dataframe\">\n",
       "  <thead>\n",
       "    <tr style=\"text-align: right;\">\n",
       "      <th></th>\n",
       "      <th>Id</th>\n",
       "      <th>class_0</th>\n",
       "      <th>class_1</th>\n",
       "    </tr>\n",
       "  </thead>\n",
       "  <tbody>\n",
       "    <tr>\n",
       "      <th>0</th>\n",
       "      <td>00eed32682bb</td>\n",
       "      <td>0.69399</td>\n",
       "      <td>0.30601</td>\n",
       "    </tr>\n",
       "    <tr>\n",
       "      <th>1</th>\n",
       "      <td>010ebe33f668</td>\n",
       "      <td>0.69399</td>\n",
       "      <td>0.30601</td>\n",
       "    </tr>\n",
       "    <tr>\n",
       "      <th>2</th>\n",
       "      <td>02fa521e1838</td>\n",
       "      <td>0.69399</td>\n",
       "      <td>0.30601</td>\n",
       "    </tr>\n",
       "    <tr>\n",
       "      <th>3</th>\n",
       "      <td>040e15f562a2</td>\n",
       "      <td>0.69399</td>\n",
       "      <td>0.30601</td>\n",
       "    </tr>\n",
       "    <tr>\n",
       "      <th>4</th>\n",
       "      <td>046e85c7cc7f</td>\n",
       "      <td>0.69399</td>\n",
       "      <td>0.30601</td>\n",
       "    </tr>\n",
       "  </tbody>\n",
       "</table>\n",
       "</div>"
      ],
      "text/plain": [
       "             Id  class_0  class_1\n",
       "0  00eed32682bb  0.69399  0.30601\n",
       "1  010ebe33f668  0.69399  0.30601\n",
       "2  02fa521e1838  0.69399  0.30601\n",
       "3  040e15f562a2  0.69399  0.30601\n",
       "4  046e85c7cc7f  0.69399  0.30601"
      ]
     },
     "execution_count": 26,
     "metadata": {},
     "output_type": "execute_result"
    }
   ],
   "source": [
    "# Submissions:\n",
    "\n",
    "features = [i for i in preprocesed_data.columns if i not in [\"Id\"]]\n",
    "\n",
    "y_pred=Rm_model.predict_proba(preprocesed_data[features])\n",
    "\n",
    "submission = pd.DataFrame(preprocesed_data[\"Id\"],columns=[\"Id\"])\n",
    "submission[\"class_0\"]=y_pred[:,0]\n",
    "submission[\"class_1\"]=y_pred[:,1]\n",
    "submission.to_csv(\"submission.csv\",index=False)\n",
    "\n",
    "submission.head()"
   ]
  },
  {
   "cell_type": "markdown",
   "id": "ee973be1-af24-4f8f-8ab3-519d34bd1324",
   "metadata": {},
   "source": [
    "## 14. CONCLUSION"
   ]
  },
  {
   "cell_type": "markdown",
   "id": "a462566e-c4cb-4025-b289-da0b6ec93e32",
   "metadata": {},
   "source": [
    "I have chosen RandomForestClassifier for submision. I have tried other models like LogisticRegression, KNeighborsClassifier, SVC, GaussianNB, DecisionTreeClassifier, AdaBoostClassifier, XGBClassifier. But the best result was achieved with RandomForestClassifier"
   ]
  }
 ],
 "metadata": {
  "kernelspec": {
   "display_name": "Python 3 (ipykernel)",
   "language": "python",
   "name": "python3"
  },
  "language_info": {
   "codemirror_mode": {
    "name": "ipython",
    "version": 3
   },
   "file_extension": ".py",
   "mimetype": "text/x-python",
   "name": "python",
   "nbconvert_exporter": "python",
   "pygments_lexer": "ipython3",
   "version": "3.11.3"
  }
 },
 "nbformat": 4,
 "nbformat_minor": 5
}
